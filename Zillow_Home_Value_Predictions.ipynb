{
 "cells": [
  {
   "cell_type": "markdown",
   "id": "dd3dc3e7-dcb0-49bb-b6b8-12c331e324e5",
   "metadata": {},
   "source": [
    "# Import Library"
   ]
  },
  {
   "cell_type": "code",
   "execution_count": 1,
   "id": "87a08484-bb14-4145-8280-f8602f23780d",
   "metadata": {},
   "outputs": [],
   "source": [
    "import pandas as pd\n",
    "from pyspark.sql import SparkSession\n",
    "from pyspark.sql.functions import *"
   ]
  },
  {
   "cell_type": "markdown",
   "id": "5a0c7d98-0ba0-48fc-99f2-044be44fd309",
   "metadata": {},
   "source": [
    "# Create SparkSession Object"
   ]
  },
  {
   "cell_type": "code",
   "execution_count": 2,
   "id": "681d4ffd-bd0a-4234-a0a3-e58a562114be",
   "metadata": {},
   "outputs": [],
   "source": [
    "spark = SparkSession.builder \\\n",
    "                .appName(\"Zillow-Home_Prediction\") \\\n",
    "                .master(\"local[*]\") \\\n",
    "                .config(\"spark.sql.repl.eagerEval.enabled\", True) \\\n",
    "                .getOrCreate()\n",
    "spark.conf.set(\"spark.sql.repl.eagerEval.maxNumOfFields\", 100)"
   ]
  },
  {
   "cell_type": "markdown",
   "id": "e5d0767f-074d-4dcb-a714-88f1ce218dc7",
   "metadata": {},
   "source": [
    "# Data Preprocessing"
   ]
  },
  {
   "cell_type": "code",
   "execution_count": 3,
   "id": "13546d3e-1cc1-4f30-afb6-cad90be1ffa2",
   "metadata": {},
   "outputs": [],
   "source": [
    "prop_2016 = spark.read.csv(\"properties_2016.csv\", inferSchema=True, header=True)\n",
    "prop_2017 = spark.read.csv(\"properties_2017.csv\", inferSchema=True, header=True)\n",
    "train_2016 = spark.read.csv(\"train_2016_v2.csv\", inferSchema=True, header=True)\n",
    "train_2017 = spark.read.csv(\"train_2017.csv\", inferSchema=True, header=True)"
   ]
  },
  {
   "cell_type": "code",
   "execution_count": 4,
   "id": "a64cdff4-31aa-4266-bd9c-0b4e0b139412",
   "metadata": {},
   "outputs": [
    {
     "data": {
      "text/html": [
       "<table border='1'>\n",
       "<tr><th>parcelid</th><th>airconditioningtypeid</th><th>architecturalstyletypeid</th><th>basementsqft</th><th>bathroomcnt</th><th>bedroomcnt</th><th>buildingclasstypeid</th><th>buildingqualitytypeid</th><th>calculatedbathnbr</th><th>decktypeid</th><th>finishedfloor1squarefeet</th><th>calculatedfinishedsquarefeet</th><th>finishedsquarefeet12</th><th>finishedsquarefeet13</th><th>finishedsquarefeet15</th><th>finishedsquarefeet50</th><th>finishedsquarefeet6</th><th>fips</th><th>fireplacecnt</th><th>fullbathcnt</th><th>garagecarcnt</th><th>garagetotalsqft</th><th>hashottuborspa</th><th>heatingorsystemtypeid</th><th>latitude</th><th>longitude</th><th>lotsizesquarefeet</th><th>poolcnt</th><th>poolsizesum</th><th>pooltypeid10</th><th>pooltypeid2</th><th>pooltypeid7</th><th>propertycountylandusecode</th><th>propertylandusetypeid</th><th>propertyzoningdesc</th><th>rawcensustractandblock</th><th>regionidcity</th><th>regionidcounty</th><th>regionidneighborhood</th><th>regionidzip</th><th>roomcnt</th><th>storytypeid</th><th>threequarterbathnbr</th><th>typeconstructiontypeid</th><th>unitcnt</th><th>yardbuildingsqft17</th><th>yardbuildingsqft26</th><th>yearbuilt</th><th>numberofstories</th><th>fireplaceflag</th><th>structuretaxvaluedollarcnt</th><th>taxvaluedollarcnt</th><th>assessmentyear</th><th>landtaxvaluedollarcnt</th><th>taxamount</th><th>taxdelinquencyflag</th><th>taxdelinquencyyear</th><th>censustractandblock</th></tr>\n",
       "<tr><td>10754147</td><td>NULL</td><td>NULL</td><td>NULL</td><td>0.0</td><td>0.0</td><td>NULL</td><td>NULL</td><td>NULL</td><td>NULL</td><td>NULL</td><td>NULL</td><td>NULL</td><td>NULL</td><td>NULL</td><td>NULL</td><td>NULL</td><td>6037</td><td>NULL</td><td>NULL</td><td>NULL</td><td>NULL</td><td>NULL</td><td>NULL</td><td>34144442</td><td>-118654084</td><td>85768.0</td><td>NULL</td><td>NULL</td><td>NULL</td><td>NULL</td><td>NULL</td><td>010D</td><td>269</td><td>NULL</td><td>6.0378002041E7</td><td>37688</td><td>3101</td><td>NULL</td><td>96337</td><td>0.0</td><td>NULL</td><td>NULL</td><td>NULL</td><td>NULL</td><td>NULL</td><td>NULL</td><td>NULL</td><td>NULL</td><td>NULL</td><td>NULL</td><td>9.0</td><td>2015</td><td>9.0</td><td>NULL</td><td>NULL</td><td>NULL</td><td>NULL</td></tr>\n",
       "<tr><td>10759547</td><td>NULL</td><td>NULL</td><td>NULL</td><td>0.0</td><td>0.0</td><td>NULL</td><td>NULL</td><td>NULL</td><td>NULL</td><td>NULL</td><td>NULL</td><td>NULL</td><td>NULL</td><td>NULL</td><td>NULL</td><td>NULL</td><td>6037</td><td>NULL</td><td>NULL</td><td>NULL</td><td>NULL</td><td>NULL</td><td>NULL</td><td>34140430</td><td>-118625364</td><td>4083.0</td><td>NULL</td><td>NULL</td><td>NULL</td><td>NULL</td><td>NULL</td><td>0109</td><td>261</td><td>LCA11*</td><td>6.0378001011002E7</td><td>37688</td><td>3101</td><td>NULL</td><td>96337</td><td>0.0</td><td>NULL</td><td>NULL</td><td>NULL</td><td>NULL</td><td>NULL</td><td>NULL</td><td>NULL</td><td>NULL</td><td>NULL</td><td>NULL</td><td>27516.0</td><td>2015</td><td>27516.0</td><td>NULL</td><td>NULL</td><td>NULL</td><td>NULL</td></tr>\n",
       "<tr><td>10843547</td><td>NULL</td><td>NULL</td><td>NULL</td><td>0.0</td><td>0.0</td><td>NULL</td><td>NULL</td><td>NULL</td><td>NULL</td><td>NULL</td><td>73026.0</td><td>NULL</td><td>NULL</td><td>73026</td><td>NULL</td><td>NULL</td><td>6037</td><td>NULL</td><td>NULL</td><td>NULL</td><td>NULL</td><td>NULL</td><td>NULL</td><td>33989359</td><td>-118394633</td><td>63085.0</td><td>NULL</td><td>NULL</td><td>NULL</td><td>NULL</td><td>NULL</td><td>1200</td><td>47</td><td>LAC2</td><td>6.0377030012017E7</td><td>51617</td><td>3101</td><td>NULL</td><td>96095</td><td>0.0</td><td>NULL</td><td>NULL</td><td>NULL</td><td>2</td><td>NULL</td><td>NULL</td><td>NULL</td><td>NULL</td><td>NULL</td><td>650756.0</td><td>1413387.0</td><td>2015</td><td>762631.0</td><td>20800.37</td><td>NULL</td><td>NULL</td><td>NULL</td></tr>\n",
       "<tr><td>10859147</td><td>NULL</td><td>NULL</td><td>NULL</td><td>0.0</td><td>0.0</td><td>3</td><td>7</td><td>NULL</td><td>NULL</td><td>NULL</td><td>5068.0</td><td>NULL</td><td>NULL</td><td>5068</td><td>NULL</td><td>NULL</td><td>6037</td><td>NULL</td><td>NULL</td><td>NULL</td><td>NULL</td><td>NULL</td><td>NULL</td><td>34148863</td><td>-118437206</td><td>7521.0</td><td>NULL</td><td>NULL</td><td>NULL</td><td>NULL</td><td>NULL</td><td>1200</td><td>47</td><td>LAC2</td><td>6.0371412023001E7</td><td>12447</td><td>3101</td><td>27080</td><td>96424</td><td>0.0</td><td>NULL</td><td>NULL</td><td>NULL</td><td>NULL</td><td>NULL</td><td>NULL</td><td>1948.0</td><td>1</td><td>NULL</td><td>571346.0</td><td>1156834.0</td><td>2015</td><td>585488.0</td><td>14557.57</td><td>NULL</td><td>NULL</td><td>NULL</td></tr>\n",
       "<tr><td>10879947</td><td>NULL</td><td>NULL</td><td>NULL</td><td>0.0</td><td>0.0</td><td>4</td><td>NULL</td><td>NULL</td><td>NULL</td><td>NULL</td><td>1776.0</td><td>NULL</td><td>NULL</td><td>1776</td><td>NULL</td><td>NULL</td><td>6037</td><td>NULL</td><td>NULL</td><td>NULL</td><td>NULL</td><td>NULL</td><td>NULL</td><td>34194168</td><td>-118385816</td><td>8512.0</td><td>NULL</td><td>NULL</td><td>NULL</td><td>NULL</td><td>NULL</td><td>1210</td><td>31</td><td>LAM1</td><td>6.0371232052003E7</td><td>12447</td><td>3101</td><td>46795</td><td>96450</td><td>0.0</td><td>NULL</td><td>NULL</td><td>NULL</td><td>1</td><td>NULL</td><td>NULL</td><td>1947.0</td><td>NULL</td><td>NULL</td><td>193796.0</td><td>433491.0</td><td>2015</td><td>239695.0</td><td>5725.17</td><td>NULL</td><td>NULL</td><td>NULL</td></tr>\n",
       "</table>\n"
      ],
      "text/plain": [
       "+--------+---------------------+------------------------+------------+-----------+----------+-------------------+---------------------+-----------------+----------+------------------------+----------------------------+--------------------+--------------------+--------------------+--------------------+-------------------+----+------------+-----------+------------+---------------+--------------+---------------------+--------+----------+-----------------+-------+-----------+------------+-----------+-----------+-------------------------+---------------------+------------------+----------------------+------------+--------------+--------------------+-----------+-------+-----------+-------------------+----------------------+-------+------------------+------------------+---------+---------------+-------------+--------------------------+-----------------+--------------+---------------------+---------+------------------+------------------+-------------------+\n",
       "|parcelid|airconditioningtypeid|architecturalstyletypeid|basementsqft|bathroomcnt|bedroomcnt|buildingclasstypeid|buildingqualitytypeid|calculatedbathnbr|decktypeid|finishedfloor1squarefeet|calculatedfinishedsquarefeet|finishedsquarefeet12|finishedsquarefeet13|finishedsquarefeet15|finishedsquarefeet50|finishedsquarefeet6|fips|fireplacecnt|fullbathcnt|garagecarcnt|garagetotalsqft|hashottuborspa|heatingorsystemtypeid|latitude| longitude|lotsizesquarefeet|poolcnt|poolsizesum|pooltypeid10|pooltypeid2|pooltypeid7|propertycountylandusecode|propertylandusetypeid|propertyzoningdesc|rawcensustractandblock|regionidcity|regionidcounty|regionidneighborhood|regionidzip|roomcnt|storytypeid|threequarterbathnbr|typeconstructiontypeid|unitcnt|yardbuildingsqft17|yardbuildingsqft26|yearbuilt|numberofstories|fireplaceflag|structuretaxvaluedollarcnt|taxvaluedollarcnt|assessmentyear|landtaxvaluedollarcnt|taxamount|taxdelinquencyflag|taxdelinquencyyear|censustractandblock|\n",
       "+--------+---------------------+------------------------+------------+-----------+----------+-------------------+---------------------+-----------------+----------+------------------------+----------------------------+--------------------+--------------------+--------------------+--------------------+-------------------+----+------------+-----------+------------+---------------+--------------+---------------------+--------+----------+-----------------+-------+-----------+------------+-----------+-----------+-------------------------+---------------------+------------------+----------------------+------------+--------------+--------------------+-----------+-------+-----------+-------------------+----------------------+-------+------------------+------------------+---------+---------------+-------------+--------------------------+-----------------+--------------+---------------------+---------+------------------+------------------+-------------------+\n",
       "|10754147|                 NULL|                    NULL|        NULL|        0.0|       0.0|               NULL|                 NULL|             NULL|      NULL|                    NULL|                        NULL|                NULL|                NULL|                NULL|                NULL|               NULL|6037|        NULL|       NULL|        NULL|           NULL|          NULL|                 NULL|34144442|-118654084|          85768.0|   NULL|       NULL|        NULL|       NULL|       NULL|                     010D|                  269|              NULL|        6.0378002041E7|       37688|          3101|                NULL|      96337|    0.0|       NULL|               NULL|                  NULL|   NULL|              NULL|              NULL|     NULL|           NULL|         NULL|                      NULL|              9.0|          2015|                  9.0|     NULL|              NULL|              NULL|               NULL|\n",
       "|10759547|                 NULL|                    NULL|        NULL|        0.0|       0.0|               NULL|                 NULL|             NULL|      NULL|                    NULL|                        NULL|                NULL|                NULL|                NULL|                NULL|               NULL|6037|        NULL|       NULL|        NULL|           NULL|          NULL|                 NULL|34140430|-118625364|           4083.0|   NULL|       NULL|        NULL|       NULL|       NULL|                     0109|                  261|            LCA11*|     6.0378001011002E7|       37688|          3101|                NULL|      96337|    0.0|       NULL|               NULL|                  NULL|   NULL|              NULL|              NULL|     NULL|           NULL|         NULL|                      NULL|          27516.0|          2015|              27516.0|     NULL|              NULL|              NULL|               NULL|\n",
       "|10843547|                 NULL|                    NULL|        NULL|        0.0|       0.0|               NULL|                 NULL|             NULL|      NULL|                    NULL|                     73026.0|                NULL|                NULL|               73026|                NULL|               NULL|6037|        NULL|       NULL|        NULL|           NULL|          NULL|                 NULL|33989359|-118394633|          63085.0|   NULL|       NULL|        NULL|       NULL|       NULL|                     1200|                   47|              LAC2|     6.0377030012017E7|       51617|          3101|                NULL|      96095|    0.0|       NULL|               NULL|                  NULL|      2|              NULL|              NULL|     NULL|           NULL|         NULL|                  650756.0|        1413387.0|          2015|             762631.0| 20800.37|              NULL|              NULL|               NULL|\n",
       "|10859147|                 NULL|                    NULL|        NULL|        0.0|       0.0|                  3|                    7|             NULL|      NULL|                    NULL|                      5068.0|                NULL|                NULL|                5068|                NULL|               NULL|6037|        NULL|       NULL|        NULL|           NULL|          NULL|                 NULL|34148863|-118437206|           7521.0|   NULL|       NULL|        NULL|       NULL|       NULL|                     1200|                   47|              LAC2|     6.0371412023001E7|       12447|          3101|               27080|      96424|    0.0|       NULL|               NULL|                  NULL|   NULL|              NULL|              NULL|   1948.0|              1|         NULL|                  571346.0|        1156834.0|          2015|             585488.0| 14557.57|              NULL|              NULL|               NULL|\n",
       "|10879947|                 NULL|                    NULL|        NULL|        0.0|       0.0|                  4|                 NULL|             NULL|      NULL|                    NULL|                      1776.0|                NULL|                NULL|                1776|                NULL|               NULL|6037|        NULL|       NULL|        NULL|           NULL|          NULL|                 NULL|34194168|-118385816|           8512.0|   NULL|       NULL|        NULL|       NULL|       NULL|                     1210|                   31|              LAM1|     6.0371232052003E7|       12447|          3101|               46795|      96450|    0.0|       NULL|               NULL|                  NULL|      1|              NULL|              NULL|   1947.0|           NULL|         NULL|                  193796.0|         433491.0|          2015|             239695.0|  5725.17|              NULL|              NULL|               NULL|\n",
       "+--------+---------------------+------------------------+------------+-----------+----------+-------------------+---------------------+-----------------+----------+------------------------+----------------------------+--------------------+--------------------+--------------------+--------------------+-------------------+----+------------+-----------+------------+---------------+--------------+---------------------+--------+----------+-----------------+-------+-----------+------------+-----------+-----------+-------------------------+---------------------+------------------+----------------------+------------+--------------+--------------------+-----------+-------+-----------+-------------------+----------------------+-------+------------------+------------------+---------+---------------+-------------+--------------------------+-----------------+--------------+---------------------+---------+------------------+------------------+-------------------+"
      ]
     },
     "execution_count": 4,
     "metadata": {},
     "output_type": "execute_result"
    }
   ],
   "source": [
    "prop_2016.limit(5)"
   ]
  },
  {
   "cell_type": "code",
   "execution_count": 5,
   "id": "72431390-256a-48db-b318-437eddc343bb",
   "metadata": {},
   "outputs": [
    {
     "data": {
      "text/html": [
       "<table border='1'>\n",
       "<tr><th>parcelid</th><th>airconditioningtypeid</th><th>architecturalstyletypeid</th><th>basementsqft</th><th>bathroomcnt</th><th>bedroomcnt</th><th>buildingclasstypeid</th><th>buildingqualitytypeid</th><th>calculatedbathnbr</th><th>decktypeid</th><th>finishedfloor1squarefeet</th><th>calculatedfinishedsquarefeet</th><th>finishedsquarefeet12</th><th>finishedsquarefeet13</th><th>finishedsquarefeet15</th><th>finishedsquarefeet50</th><th>finishedsquarefeet6</th><th>fips</th><th>fireplacecnt</th><th>fullbathcnt</th><th>garagecarcnt</th><th>garagetotalsqft</th><th>hashottuborspa</th><th>heatingorsystemtypeid</th><th>latitude</th><th>longitude</th><th>lotsizesquarefeet</th><th>poolcnt</th><th>poolsizesum</th><th>pooltypeid10</th><th>pooltypeid2</th><th>pooltypeid7</th><th>propertycountylandusecode</th><th>propertylandusetypeid</th><th>propertyzoningdesc</th><th>rawcensustractandblock</th><th>regionidcity</th><th>regionidcounty</th><th>regionidneighborhood</th><th>regionidzip</th><th>roomcnt</th><th>storytypeid</th><th>threequarterbathnbr</th><th>typeconstructiontypeid</th><th>unitcnt</th><th>yardbuildingsqft17</th><th>yardbuildingsqft26</th><th>yearbuilt</th><th>numberofstories</th><th>fireplaceflag</th><th>structuretaxvaluedollarcnt</th><th>taxvaluedollarcnt</th><th>assessmentyear</th><th>landtaxvaluedollarcnt</th><th>taxamount</th><th>taxdelinquencyflag</th><th>taxdelinquencyyear</th><th>censustractandblock</th></tr>\n",
       "<tr><td>10754147</td><td>NULL</td><td>NULL</td><td>NULL</td><td>0.0</td><td>0.0</td><td>NULL</td><td>NULL</td><td>NULL</td><td>NULL</td><td>NULL</td><td>NULL</td><td>NULL</td><td>NULL</td><td>NULL</td><td>NULL</td><td>NULL</td><td>6037</td><td>NULL</td><td>NULL</td><td>NULL</td><td>NULL</td><td>NULL</td><td>NULL</td><td>34144442</td><td>-118654084</td><td>85768.0</td><td>NULL</td><td>NULL</td><td>NULL</td><td>NULL</td><td>NULL</td><td>010D</td><td>269</td><td>NULL</td><td>6.0378002041E7</td><td>37688</td><td>3101</td><td>NULL</td><td>96337</td><td>0.0</td><td>NULL</td><td>NULL</td><td>NULL</td><td>NULL</td><td>NULL</td><td>NULL</td><td>NULL</td><td>NULL</td><td>NULL</td><td>NULL</td><td>9.0</td><td>2016</td><td>9.0</td><td>NULL</td><td>NULL</td><td>NULL</td><td>NULL</td></tr>\n",
       "<tr><td>10759547</td><td>NULL</td><td>NULL</td><td>NULL</td><td>0.0</td><td>0.0</td><td>NULL</td><td>NULL</td><td>NULL</td><td>NULL</td><td>NULL</td><td>NULL</td><td>NULL</td><td>NULL</td><td>NULL</td><td>NULL</td><td>NULL</td><td>6037</td><td>NULL</td><td>NULL</td><td>NULL</td><td>NULL</td><td>NULL</td><td>NULL</td><td>34140430</td><td>-118625364</td><td>4083.0</td><td>NULL</td><td>NULL</td><td>NULL</td><td>NULL</td><td>NULL</td><td>0109</td><td>261</td><td>LCA11*</td><td>6.0378001011002E7</td><td>37688</td><td>3101</td><td>NULL</td><td>96337</td><td>0.0</td><td>NULL</td><td>NULL</td><td>NULL</td><td>NULL</td><td>NULL</td><td>NULL</td><td>NULL</td><td>NULL</td><td>NULL</td><td>NULL</td><td>27516.0</td><td>2015</td><td>27516.0</td><td>NULL</td><td>NULL</td><td>NULL</td><td>NULL</td></tr>\n",
       "<tr><td>10843547</td><td>NULL</td><td>NULL</td><td>NULL</td><td>0.0</td><td>0.0</td><td>5</td><td>NULL</td><td>NULL</td><td>NULL</td><td>NULL</td><td>73026.0</td><td>NULL</td><td>NULL</td><td>73026</td><td>NULL</td><td>NULL</td><td>6037</td><td>NULL</td><td>NULL</td><td>NULL</td><td>NULL</td><td>NULL</td><td>NULL</td><td>33989359</td><td>-118394633</td><td>63085.0</td><td>NULL</td><td>NULL</td><td>NULL</td><td>NULL</td><td>NULL</td><td>1200</td><td>47</td><td>LAC2</td><td>6.0377030012017E7</td><td>51617</td><td>3101</td><td>NULL</td><td>96095</td><td>0.0</td><td>NULL</td><td>NULL</td><td>NULL</td><td>2</td><td>NULL</td><td>NULL</td><td>1959.0</td><td>1</td><td>NULL</td><td>660680.0</td><td>1434941.0</td><td>2016</td><td>774261.0</td><td>20800.37</td><td>NULL</td><td>NULL</td><td>NULL</td></tr>\n",
       "<tr><td>10859147</td><td>NULL</td><td>NULL</td><td>NULL</td><td>0.0</td><td>0.0</td><td>3</td><td>6</td><td>NULL</td><td>NULL</td><td>NULL</td><td>5068.0</td><td>NULL</td><td>NULL</td><td>5068</td><td>NULL</td><td>NULL</td><td>6037</td><td>NULL</td><td>NULL</td><td>NULL</td><td>NULL</td><td>NULL</td><td>NULL</td><td>34148863</td><td>-118437206</td><td>7521.0</td><td>NULL</td><td>NULL</td><td>NULL</td><td>NULL</td><td>NULL</td><td>1200</td><td>47</td><td>LAC2</td><td>6.0371412023001E7</td><td>12447</td><td>3101</td><td>27080</td><td>96424</td><td>0.0</td><td>NULL</td><td>NULL</td><td>NULL</td><td>NULL</td><td>NULL</td><td>NULL</td><td>1948.0</td><td>1</td><td>NULL</td><td>580059.0</td><td>1174475.0</td><td>2016</td><td>594416.0</td><td>14557.57</td><td>NULL</td><td>NULL</td><td>NULL</td></tr>\n",
       "<tr><td>10879947</td><td>NULL</td><td>NULL</td><td>NULL</td><td>0.0</td><td>0.0</td><td>4</td><td>NULL</td><td>NULL</td><td>NULL</td><td>NULL</td><td>1776.0</td><td>NULL</td><td>NULL</td><td>1776</td><td>NULL</td><td>NULL</td><td>6037</td><td>NULL</td><td>NULL</td><td>NULL</td><td>NULL</td><td>NULL</td><td>NULL</td><td>34194168</td><td>-118385816</td><td>8512.0</td><td>NULL</td><td>NULL</td><td>NULL</td><td>NULL</td><td>NULL</td><td>1210</td><td>31</td><td>LAM1</td><td>6.0371232052003E7</td><td>12447</td><td>3101</td><td>46795</td><td>96450</td><td>0.0</td><td>NULL</td><td>NULL</td><td>NULL</td><td>1</td><td>NULL</td><td>NULL</td><td>1947.0</td><td>1</td><td>NULL</td><td>196751.0</td><td>440101.0</td><td>2016</td><td>243350.0</td><td>5725.17</td><td>NULL</td><td>NULL</td><td>NULL</td></tr>\n",
       "</table>\n"
      ],
      "text/plain": [
       "+--------+---------------------+------------------------+------------+-----------+----------+-------------------+---------------------+-----------------+----------+------------------------+----------------------------+--------------------+--------------------+--------------------+--------------------+-------------------+----+------------+-----------+------------+---------------+--------------+---------------------+--------+----------+-----------------+-------+-----------+------------+-----------+-----------+-------------------------+---------------------+------------------+----------------------+------------+--------------+--------------------+-----------+-------+-----------+-------------------+----------------------+-------+------------------+------------------+---------+---------------+-------------+--------------------------+-----------------+--------------+---------------------+---------+------------------+------------------+-------------------+\n",
       "|parcelid|airconditioningtypeid|architecturalstyletypeid|basementsqft|bathroomcnt|bedroomcnt|buildingclasstypeid|buildingqualitytypeid|calculatedbathnbr|decktypeid|finishedfloor1squarefeet|calculatedfinishedsquarefeet|finishedsquarefeet12|finishedsquarefeet13|finishedsquarefeet15|finishedsquarefeet50|finishedsquarefeet6|fips|fireplacecnt|fullbathcnt|garagecarcnt|garagetotalsqft|hashottuborspa|heatingorsystemtypeid|latitude| longitude|lotsizesquarefeet|poolcnt|poolsizesum|pooltypeid10|pooltypeid2|pooltypeid7|propertycountylandusecode|propertylandusetypeid|propertyzoningdesc|rawcensustractandblock|regionidcity|regionidcounty|regionidneighborhood|regionidzip|roomcnt|storytypeid|threequarterbathnbr|typeconstructiontypeid|unitcnt|yardbuildingsqft17|yardbuildingsqft26|yearbuilt|numberofstories|fireplaceflag|structuretaxvaluedollarcnt|taxvaluedollarcnt|assessmentyear|landtaxvaluedollarcnt|taxamount|taxdelinquencyflag|taxdelinquencyyear|censustractandblock|\n",
       "+--------+---------------------+------------------------+------------+-----------+----------+-------------------+---------------------+-----------------+----------+------------------------+----------------------------+--------------------+--------------------+--------------------+--------------------+-------------------+----+------------+-----------+------------+---------------+--------------+---------------------+--------+----------+-----------------+-------+-----------+------------+-----------+-----------+-------------------------+---------------------+------------------+----------------------+------------+--------------+--------------------+-----------+-------+-----------+-------------------+----------------------+-------+------------------+------------------+---------+---------------+-------------+--------------------------+-----------------+--------------+---------------------+---------+------------------+------------------+-------------------+\n",
       "|10754147|                 NULL|                    NULL|        NULL|        0.0|       0.0|               NULL|                 NULL|             NULL|      NULL|                    NULL|                        NULL|                NULL|                NULL|                NULL|                NULL|               NULL|6037|        NULL|       NULL|        NULL|           NULL|          NULL|                 NULL|34144442|-118654084|          85768.0|   NULL|       NULL|        NULL|       NULL|       NULL|                     010D|                  269|              NULL|        6.0378002041E7|       37688|          3101|                NULL|      96337|    0.0|       NULL|               NULL|                  NULL|   NULL|              NULL|              NULL|     NULL|           NULL|         NULL|                      NULL|              9.0|          2016|                  9.0|     NULL|              NULL|              NULL|               NULL|\n",
       "|10759547|                 NULL|                    NULL|        NULL|        0.0|       0.0|               NULL|                 NULL|             NULL|      NULL|                    NULL|                        NULL|                NULL|                NULL|                NULL|                NULL|               NULL|6037|        NULL|       NULL|        NULL|           NULL|          NULL|                 NULL|34140430|-118625364|           4083.0|   NULL|       NULL|        NULL|       NULL|       NULL|                     0109|                  261|            LCA11*|     6.0378001011002E7|       37688|          3101|                NULL|      96337|    0.0|       NULL|               NULL|                  NULL|   NULL|              NULL|              NULL|     NULL|           NULL|         NULL|                      NULL|          27516.0|          2015|              27516.0|     NULL|              NULL|              NULL|               NULL|\n",
       "|10843547|                 NULL|                    NULL|        NULL|        0.0|       0.0|                  5|                 NULL|             NULL|      NULL|                    NULL|                     73026.0|                NULL|                NULL|               73026|                NULL|               NULL|6037|        NULL|       NULL|        NULL|           NULL|          NULL|                 NULL|33989359|-118394633|          63085.0|   NULL|       NULL|        NULL|       NULL|       NULL|                     1200|                   47|              LAC2|     6.0377030012017E7|       51617|          3101|                NULL|      96095|    0.0|       NULL|               NULL|                  NULL|      2|              NULL|              NULL|   1959.0|              1|         NULL|                  660680.0|        1434941.0|          2016|             774261.0| 20800.37|              NULL|              NULL|               NULL|\n",
       "|10859147|                 NULL|                    NULL|        NULL|        0.0|       0.0|                  3|                    6|             NULL|      NULL|                    NULL|                      5068.0|                NULL|                NULL|                5068|                NULL|               NULL|6037|        NULL|       NULL|        NULL|           NULL|          NULL|                 NULL|34148863|-118437206|           7521.0|   NULL|       NULL|        NULL|       NULL|       NULL|                     1200|                   47|              LAC2|     6.0371412023001E7|       12447|          3101|               27080|      96424|    0.0|       NULL|               NULL|                  NULL|   NULL|              NULL|              NULL|   1948.0|              1|         NULL|                  580059.0|        1174475.0|          2016|             594416.0| 14557.57|              NULL|              NULL|               NULL|\n",
       "|10879947|                 NULL|                    NULL|        NULL|        0.0|       0.0|                  4|                 NULL|             NULL|      NULL|                    NULL|                      1776.0|                NULL|                NULL|                1776|                NULL|               NULL|6037|        NULL|       NULL|        NULL|           NULL|          NULL|                 NULL|34194168|-118385816|           8512.0|   NULL|       NULL|        NULL|       NULL|       NULL|                     1210|                   31|              LAM1|     6.0371232052003E7|       12447|          3101|               46795|      96450|    0.0|       NULL|               NULL|                  NULL|      1|              NULL|              NULL|   1947.0|              1|         NULL|                  196751.0|         440101.0|          2016|             243350.0|  5725.17|              NULL|              NULL|               NULL|\n",
       "+--------+---------------------+------------------------+------------+-----------+----------+-------------------+---------------------+-----------------+----------+------------------------+----------------------------+--------------------+--------------------+--------------------+--------------------+-------------------+----+------------+-----------+------------+---------------+--------------+---------------------+--------+----------+-----------------+-------+-----------+------------+-----------+-----------+-------------------------+---------------------+------------------+----------------------+------------+--------------+--------------------+-----------+-------+-----------+-------------------+----------------------+-------+------------------+------------------+---------+---------------+-------------+--------------------------+-----------------+--------------+---------------------+---------+------------------+------------------+-------------------+"
      ]
     },
     "execution_count": 5,
     "metadata": {},
     "output_type": "execute_result"
    }
   ],
   "source": [
    "prop_2017.limit(5)"
   ]
  },
  {
   "cell_type": "code",
   "execution_count": 6,
   "id": "28460537-d1a9-43d4-9ab4-902ba39564ea",
   "metadata": {},
   "outputs": [
    {
     "name": "stdout",
     "output_type": "stream",
     "text": [
      "+--------+--------+---------------+\n",
      "|parcelid|logerror|transactiondate|\n",
      "+--------+--------+---------------+\n",
      "|11016594|  0.0276|     2016-01-01|\n",
      "|14366692| -0.1684|     2016-01-01|\n",
      "|12098116|  -0.004|     2016-01-01|\n",
      "|12643413|  0.0218|     2016-01-02|\n",
      "|14432541|  -0.005|     2016-01-02|\n",
      "+--------+--------+---------------+\n",
      "only showing top 5 rows\n",
      "\n"
     ]
    }
   ],
   "source": [
    "train_2016.show(5)"
   ]
  },
  {
   "cell_type": "code",
   "execution_count": 7,
   "id": "d3e6aae3-5e9c-41bc-9f14-ec25b752033d",
   "metadata": {},
   "outputs": [
    {
     "name": "stdout",
     "output_type": "stream",
     "text": [
      "+--------+----------------+---------------+\n",
      "|parcelid|        logerror|transactiondate|\n",
      "+--------+----------------+---------------+\n",
      "|14297519| 0.0255949017584|     2017-01-01|\n",
      "|17052889| 0.0556190874015|     2017-01-01|\n",
      "|14186244|0.00538285304689|     2017-01-01|\n",
      "|12177905| -0.103409666332|     2017-01-01|\n",
      "|10887214|0.00694035920822|     2017-01-01|\n",
      "+--------+----------------+---------------+\n",
      "only showing top 5 rows\n",
      "\n"
     ]
    }
   ],
   "source": [
    "train_2017.show(5)"
   ]
  },
  {
   "cell_type": "code",
   "execution_count": 4,
   "id": "fb50f942-8aaf-4100-af0c-9b00987a7647",
   "metadata": {},
   "outputs": [],
   "source": [
    "prop_2016 = prop_2016.withColumnRenamed(\"parcelid\", \"parcelIId\")\n",
    "prop_2017 = prop_2017.withColumnRenamed(\"parcelid\", \"parcelIId\")"
   ]
  },
  {
   "cell_type": "code",
   "execution_count": 5,
   "id": "dd02cd61-282f-4b33-9686-4c0b87903af8",
   "metadata": {},
   "outputs": [],
   "source": [
    "df_2016 = train_2016.join(prop_2016, train_2016[\"parcelid\"] == prop_2016[\"parcelIId\"], how=\"left\")\n",
    "df_2017 = train_2017.join(prop_2017, train_2017[\"parcelid\"] == prop_2017[\"parcelIId\"], how=\"left\")"
   ]
  },
  {
   "cell_type": "code",
   "execution_count": 6,
   "id": "4d61f035-3e87-4fdc-94f7-03c6571146b5",
   "metadata": {},
   "outputs": [],
   "source": [
    "# rename\n",
    "for col_name in df_2016.columns: df_2016 = df_2016.withColumnRenamed(col_name, f\"{col_name}_16\")\n",
    "for col_name in df_2017.columns: df_2017 = df_2017.withColumnRenamed(col_name, f\"{col_name}_17\")"
   ]
  },
  {
   "cell_type": "code",
   "execution_count": 7,
   "id": "de04894c-2298-4325-92e4-ad52e758243d",
   "metadata": {},
   "outputs": [],
   "source": [
    "# Delete one column in two column parcelid\n",
    "df_2016 = df_2016.drop('parcelIId_16')\n",
    "df_2017 = df_2017.drop('parcelIId_17')"
   ]
  },
  {
   "cell_type": "code",
   "execution_count": 8,
   "id": "f88bfa37-33c1-4ee5-83fe-a3e9570bdc85",
   "metadata": {},
   "outputs": [],
   "source": [
    "df = df_2016.join(df_2017, df_2016[\"parcelid_16\"] == df_2017[\"parcelid_17\"], how=\"left\")"
   ]
  },
  {
   "cell_type": "code",
   "execution_count": 9,
   "id": "faf2ad60-b6ce-4399-9e91-ae72e574d14e",
   "metadata": {},
   "outputs": [],
   "source": [
    "df = df.drop('parcelid_17')\n",
    "df = df.withColumnRenamed('parcelid_16', 'parcelid')"
   ]
  },
  {
   "cell_type": "code",
   "execution_count": 14,
   "id": "7b909129-3f7b-4235-9b41-a6e3aecbd249",
   "metadata": {},
   "outputs": [
    {
     "data": {
      "text/html": [
       "<table border='1'>\n",
       "<tr><th>parcelid</th><th>logerror_16</th><th>transactiondate_16</th><th>airconditioningtypeid_16</th><th>architecturalstyletypeid_16</th><th>basementsqft_16</th><th>bathroomcnt_16</th><th>bedroomcnt_16</th><th>buildingclasstypeid_16</th><th>buildingqualitytypeid_16</th><th>calculatedbathnbr_16</th><th>decktypeid_16</th><th>finishedfloor1squarefeet_16</th><th>calculatedfinishedsquarefeet_16</th><th>finishedsquarefeet12_16</th><th>finishedsquarefeet13_16</th><th>finishedsquarefeet15_16</th><th>finishedsquarefeet50_16</th><th>finishedsquarefeet6_16</th><th>fips_16</th><th>fireplacecnt_16</th><th>fullbathcnt_16</th><th>garagecarcnt_16</th><th>garagetotalsqft_16</th><th>hashottuborspa_16</th><th>heatingorsystemtypeid_16</th><th>latitude_16</th><th>longitude_16</th><th>lotsizesquarefeet_16</th><th>poolcnt_16</th><th>poolsizesum_16</th><th>pooltypeid10_16</th><th>pooltypeid2_16</th><th>pooltypeid7_16</th><th>propertycountylandusecode_16</th><th>propertylandusetypeid_16</th><th>propertyzoningdesc_16</th><th>rawcensustractandblock_16</th><th>regionidcity_16</th><th>regionidcounty_16</th><th>regionidneighborhood_16</th><th>regionidzip_16</th><th>roomcnt_16</th><th>storytypeid_16</th><th>threequarterbathnbr_16</th><th>typeconstructiontypeid_16</th><th>unitcnt_16</th><th>yardbuildingsqft17_16</th><th>yardbuildingsqft26_16</th><th>yearbuilt_16</th><th>numberofstories_16</th><th>fireplaceflag_16</th><th>structuretaxvaluedollarcnt_16</th><th>taxvaluedollarcnt_16</th><th>assessmentyear_16</th><th>landtaxvaluedollarcnt_16</th><th>taxamount_16</th><th>taxdelinquencyflag_16</th><th>taxdelinquencyyear_16</th><th>censustractandblock_16</th><th>logerror_17</th><th>transactiondate_17</th><th>airconditioningtypeid_17</th><th>architecturalstyletypeid_17</th><th>basementsqft_17</th><th>bathroomcnt_17</th><th>bedroomcnt_17</th><th>buildingclasstypeid_17</th><th>buildingqualitytypeid_17</th><th>calculatedbathnbr_17</th><th>decktypeid_17</th><th>finishedfloor1squarefeet_17</th><th>calculatedfinishedsquarefeet_17</th><th>finishedsquarefeet12_17</th><th>finishedsquarefeet13_17</th><th>finishedsquarefeet15_17</th><th>finishedsquarefeet50_17</th><th>finishedsquarefeet6_17</th><th>fips_17</th><th>fireplacecnt_17</th><th>fullbathcnt_17</th><th>garagecarcnt_17</th><th>garagetotalsqft_17</th><th>hashottuborspa_17</th><th>heatingorsystemtypeid_17</th><th>latitude_17</th><th>longitude_17</th><th>lotsizesquarefeet_17</th><th>poolcnt_17</th><th>poolsizesum_17</th><th>pooltypeid10_17</th><th>pooltypeid2_17</th><th>pooltypeid7_17</th><th>propertycountylandusecode_17</th><th>propertylandusetypeid_17</th><th>propertyzoningdesc_17</th><th>rawcensustractandblock_17</th><th>regionidcity_17</th><th>regionidcounty_17</th><th>regionidneighborhood_17</th><th>regionidzip_17</th><th>roomcnt_17</th><th>storytypeid_17</th><th>threequarterbathnbr_17</th><th>typeconstructiontypeid_17</th><th>unitcnt_17</th><th>yardbuildingsqft17_17</th><th>yardbuildingsqft26_17</th><th>yearbuilt_17</th><th>numberofstories_17</th><th>fireplaceflag_17</th><th>structuretaxvaluedollarcnt_17</th><th>taxvaluedollarcnt_17</th><th>assessmentyear_17</th><th>landtaxvaluedollarcnt_17</th><th>taxamount_17</th><th>taxdelinquencyflag_17</th><th>taxdelinquencyyear_17</th><th>censustractandblock_17</th></tr>\n",
       "<tr><td>12643413</td><td>0.0218</td><td>2016-01-02</td><td>1</td><td>NULL</td><td>NULL</td><td>2.0</td><td>2.0</td><td>NULL</td><td>4</td><td>2.0</td><td>NULL</td><td>NULL</td><td>839.0</td><td>839</td><td>NULL</td><td>NULL</td><td>NULL</td><td>NULL</td><td>6037</td><td>NULL</td><td>2</td><td>NULL</td><td>NULL</td><td>NULL</td><td>2</td><td>33755800</td><td>-118309000</td><td>70859.0</td><td>NULL</td><td>NULL</td><td>NULL</td><td>NULL</td><td>NULL</td><td>010C</td><td>266</td><td>LAR3</td><td>6.0372963002002E7</td><td>12447</td><td>3101</td><td>54300</td><td>96222</td><td>0.0</td><td>NULL</td><td>NULL</td><td>NULL</td><td>1</td><td>NULL</td><td>NULL</td><td>1987.0</td><td>NULL</td><td>NULL</td><td>171518.0</td><td>244880.0</td><td>2015</td><td>73362.0</td><td>3048.74</td><td>NULL</td><td>NULL</td><td>60372963002002</td><td>NULL</td><td>NULL</td><td>NULL</td><td>NULL</td><td>NULL</td><td>NULL</td><td>NULL</td><td>NULL</td><td>NULL</td><td>NULL</td><td>NULL</td><td>NULL</td><td>NULL</td><td>NULL</td><td>NULL</td><td>NULL</td><td>NULL</td><td>NULL</td><td>NULL</td><td>NULL</td><td>NULL</td><td>NULL</td><td>NULL</td><td>NULL</td><td>NULL</td><td>NULL</td><td>NULL</td><td>NULL</td><td>NULL</td><td>NULL</td><td>NULL</td><td>NULL</td><td>NULL</td><td>NULL</td><td>NULL</td><td>NULL</td><td>NULL</td><td>NULL</td><td>NULL</td><td>NULL</td><td>NULL</td><td>NULL</td><td>NULL</td><td>NULL</td><td>NULL</td><td>NULL</td><td>NULL</td><td>NULL</td><td>NULL</td><td>NULL</td><td>NULL</td><td>NULL</td><td>NULL</td><td>NULL</td><td>NULL</td><td>NULL</td><td>NULL</td><td>NULL</td><td>NULL</td></tr>\n",
       "<tr><td>12098116</td><td>-0.004</td><td>2016-01-01</td><td>1</td><td>NULL</td><td>NULL</td><td>3.0</td><td>2.0</td><td>NULL</td><td>4</td><td>3.0</td><td>NULL</td><td>NULL</td><td>2217.0</td><td>2217</td><td>NULL</td><td>NULL</td><td>NULL</td><td>NULL</td><td>6037</td><td>NULL</td><td>3</td><td>NULL</td><td>NULL</td><td>NULL</td><td>2</td><td>34136312</td><td>-118175032</td><td>11423.0</td><td>NULL</td><td>NULL</td><td>NULL</td><td>NULL</td><td>NULL</td><td>0100</td><td>261</td><td>PSR6</td><td>6.0374638003004E7</td><td>47019</td><td>3101</td><td>275411</td><td>96293</td><td>0.0</td><td>NULL</td><td>NULL</td><td>NULL</td><td>1</td><td>NULL</td><td>NULL</td><td>1940.0</td><td>NULL</td><td>NULL</td><td>61994.0</td><td>119906.0</td><td>2015</td><td>57912.0</td><td>11484.48</td><td>NULL</td><td>NULL</td><td>60374638003004</td><td>NULL</td><td>NULL</td><td>NULL</td><td>NULL</td><td>NULL</td><td>NULL</td><td>NULL</td><td>NULL</td><td>NULL</td><td>NULL</td><td>NULL</td><td>NULL</td><td>NULL</td><td>NULL</td><td>NULL</td><td>NULL</td><td>NULL</td><td>NULL</td><td>NULL</td><td>NULL</td><td>NULL</td><td>NULL</td><td>NULL</td><td>NULL</td><td>NULL</td><td>NULL</td><td>NULL</td><td>NULL</td><td>NULL</td><td>NULL</td><td>NULL</td><td>NULL</td><td>NULL</td><td>NULL</td><td>NULL</td><td>NULL</td><td>NULL</td><td>NULL</td><td>NULL</td><td>NULL</td><td>NULL</td><td>NULL</td><td>NULL</td><td>NULL</td><td>NULL</td><td>NULL</td><td>NULL</td><td>NULL</td><td>NULL</td><td>NULL</td><td>NULL</td><td>NULL</td><td>NULL</td><td>NULL</td><td>NULL</td><td>NULL</td><td>NULL</td><td>NULL</td><td>NULL</td></tr>\n",
       "<tr><td>14366692</td><td>-0.1684</td><td>2016-01-01</td><td>NULL</td><td>NULL</td><td>NULL</td><td>3.5</td><td>4.0</td><td>NULL</td><td>NULL</td><td>3.5</td><td>NULL</td><td>NULL</td><td>2263.0</td><td>2263</td><td>NULL</td><td>NULL</td><td>NULL</td><td>NULL</td><td>6059</td><td>NULL</td><td>3</td><td>2</td><td>468</td><td>NULL</td><td>NULL</td><td>33668120</td><td>-117677556</td><td>3643.0</td><td>NULL</td><td>NULL</td><td>NULL</td><td>NULL</td><td>NULL</td><td>1</td><td>261</td><td>NULL</td><td>6.0590524222024E7</td><td>32380</td><td>1286</td><td>NULL</td><td>96962</td><td>0.0</td><td>NULL</td><td>1</td><td>NULL</td><td>NULL</td><td>NULL</td><td>NULL</td><td>2014.0</td><td>NULL</td><td>NULL</td><td>346458.0</td><td>585529.0</td><td>2015</td><td>239071.0</td><td>10153.02</td><td>NULL</td><td>NULL</td><td>NULL</td><td>0.00214159242517</td><td>2017-08-04</td><td>NULL</td><td>NULL</td><td>NULL</td><td>3.5</td><td>4.0</td><td>NULL</td><td>NULL</td><td>3.5</td><td>NULL</td><td>NULL</td><td>2263.0</td><td>2263</td><td>NULL</td><td>NULL</td><td>NULL</td><td>NULL</td><td>6059</td><td>NULL</td><td>3</td><td>2</td><td>468</td><td>NULL</td><td>NULL</td><td>33668120</td><td>-117677556</td><td>3643.0</td><td>NULL</td><td>NULL</td><td>NULL</td><td>NULL</td><td>NULL</td><td>1</td><td>261</td><td>NULL</td><td>6.0590524222024E7</td><td>32380</td><td>1286</td><td>NULL</td><td>96962</td><td>0.0</td><td>NULL</td><td>1</td><td>NULL</td><td>NULL</td><td>NULL</td><td>NULL</td><td>2014.0</td><td>NULL</td><td>NULL</td><td>346458.0</td><td>974900.0</td><td>2016</td><td>628442.0</td><td>10153.02</td><td>NULL</td><td>NULL</td><td>NULL</td></tr>\n",
       "<tr><td>11016594</td><td>0.0276</td><td>2016-01-01</td><td>1</td><td>NULL</td><td>NULL</td><td>2.0</td><td>3.0</td><td>NULL</td><td>4</td><td>2.0</td><td>NULL</td><td>NULL</td><td>1684.0</td><td>1684</td><td>NULL</td><td>NULL</td><td>NULL</td><td>NULL</td><td>6037</td><td>NULL</td><td>2</td><td>NULL</td><td>NULL</td><td>NULL</td><td>2</td><td>34280990</td><td>-118488536</td><td>7528.0</td><td>NULL</td><td>NULL</td><td>NULL</td><td>NULL</td><td>NULL</td><td>0100</td><td>261</td><td>LARS</td><td>6.0371066461001E7</td><td>12447</td><td>3101</td><td>31817</td><td>96370</td><td>0.0</td><td>NULL</td><td>NULL</td><td>NULL</td><td>1</td><td>NULL</td><td>NULL</td><td>1959.0</td><td>NULL</td><td>NULL</td><td>122754.0</td><td>360170.0</td><td>2015</td><td>237416.0</td><td>6735.88</td><td>NULL</td><td>NULL</td><td>60371066461001</td><td>NULL</td><td>NULL</td><td>NULL</td><td>NULL</td><td>NULL</td><td>NULL</td><td>NULL</td><td>NULL</td><td>NULL</td><td>NULL</td><td>NULL</td><td>NULL</td><td>NULL</td><td>NULL</td><td>NULL</td><td>NULL</td><td>NULL</td><td>NULL</td><td>NULL</td><td>NULL</td><td>NULL</td><td>NULL</td><td>NULL</td><td>NULL</td><td>NULL</td><td>NULL</td><td>NULL</td><td>NULL</td><td>NULL</td><td>NULL</td><td>NULL</td><td>NULL</td><td>NULL</td><td>NULL</td><td>NULL</td><td>NULL</td><td>NULL</td><td>NULL</td><td>NULL</td><td>NULL</td><td>NULL</td><td>NULL</td><td>NULL</td><td>NULL</td><td>NULL</td><td>NULL</td><td>NULL</td><td>NULL</td><td>NULL</td><td>NULL</td><td>NULL</td><td>NULL</td><td>NULL</td><td>NULL</td><td>NULL</td><td>NULL</td><td>NULL</td><td>NULL</td><td>NULL</td></tr>\n",
       "<tr><td>14432541</td><td>-0.005</td><td>2016-01-02</td><td>NULL</td><td>NULL</td><td>NULL</td><td>2.5</td><td>4.0</td><td>NULL</td><td>NULL</td><td>2.5</td><td>NULL</td><td>NULL</td><td>2283.0</td><td>2283</td><td>NULL</td><td>NULL</td><td>NULL</td><td>NULL</td><td>6059</td><td>NULL</td><td>2</td><td>2</td><td>598</td><td>NULL</td><td>NULL</td><td>33485643</td><td>-117700234</td><td>6000.0</td><td>1</td><td>NULL</td><td>NULL</td><td>NULL</td><td>1</td><td>122</td><td>261</td><td>NULL</td><td>6.0590423381006E7</td><td>17686</td><td>1286</td><td>NULL</td><td>96961</td><td>8.0</td><td>NULL</td><td>1</td><td>NULL</td><td>NULL</td><td>NULL</td><td>NULL</td><td>1981.0</td><td>2</td><td>NULL</td><td>169574.0</td><td>434551.0</td><td>2015</td><td>264977.0</td><td>5488.96</td><td>NULL</td><td>NULL</td><td>60590423381006</td><td>NULL</td><td>NULL</td><td>NULL</td><td>NULL</td><td>NULL</td><td>NULL</td><td>NULL</td><td>NULL</td><td>NULL</td><td>NULL</td><td>NULL</td><td>NULL</td><td>NULL</td><td>NULL</td><td>NULL</td><td>NULL</td><td>NULL</td><td>NULL</td><td>NULL</td><td>NULL</td><td>NULL</td><td>NULL</td><td>NULL</td><td>NULL</td><td>NULL</td><td>NULL</td><td>NULL</td><td>NULL</td><td>NULL</td><td>NULL</td><td>NULL</td><td>NULL</td><td>NULL</td><td>NULL</td><td>NULL</td><td>NULL</td><td>NULL</td><td>NULL</td><td>NULL</td><td>NULL</td><td>NULL</td><td>NULL</td><td>NULL</td><td>NULL</td><td>NULL</td><td>NULL</td><td>NULL</td><td>NULL</td><td>NULL</td><td>NULL</td><td>NULL</td><td>NULL</td><td>NULL</td><td>NULL</td><td>NULL</td><td>NULL</td><td>NULL</td><td>NULL</td><td>NULL</td></tr>\n",
       "</table>\n"
      ],
      "text/plain": [
       "+--------+-----------+------------------+------------------------+---------------------------+---------------+--------------+-------------+----------------------+------------------------+--------------------+-------------+---------------------------+-------------------------------+-----------------------+-----------------------+-----------------------+-----------------------+----------------------+-------+---------------+--------------+---------------+------------------+-----------------+------------------------+-----------+------------+--------------------+----------+--------------+---------------+--------------+--------------+----------------------------+------------------------+---------------------+-------------------------+---------------+-----------------+-----------------------+--------------+----------+--------------+----------------------+-------------------------+----------+---------------------+---------------------+------------+------------------+----------------+-----------------------------+--------------------+-----------------+------------------------+------------+---------------------+---------------------+----------------------+----------------+------------------+------------------------+---------------------------+---------------+--------------+-------------+----------------------+------------------------+--------------------+-------------+---------------------------+-------------------------------+-----------------------+-----------------------+-----------------------+-----------------------+----------------------+-------+---------------+--------------+---------------+------------------+-----------------+------------------------+-----------+------------+--------------------+----------+--------------+---------------+--------------+--------------+----------------------------+------------------------+---------------------+-------------------------+---------------+-----------------+-----------------------+--------------+----------+--------------+----------------------+-------------------------+----------+---------------------+---------------------+------------+------------------+----------------+-----------------------------+--------------------+-----------------+------------------------+------------+---------------------+---------------------+----------------------+\n",
       "|parcelid|logerror_16|transactiondate_16|airconditioningtypeid_16|architecturalstyletypeid_16|basementsqft_16|bathroomcnt_16|bedroomcnt_16|buildingclasstypeid_16|buildingqualitytypeid_16|calculatedbathnbr_16|decktypeid_16|finishedfloor1squarefeet_16|calculatedfinishedsquarefeet_16|finishedsquarefeet12_16|finishedsquarefeet13_16|finishedsquarefeet15_16|finishedsquarefeet50_16|finishedsquarefeet6_16|fips_16|fireplacecnt_16|fullbathcnt_16|garagecarcnt_16|garagetotalsqft_16|hashottuborspa_16|heatingorsystemtypeid_16|latitude_16|longitude_16|lotsizesquarefeet_16|poolcnt_16|poolsizesum_16|pooltypeid10_16|pooltypeid2_16|pooltypeid7_16|propertycountylandusecode_16|propertylandusetypeid_16|propertyzoningdesc_16|rawcensustractandblock_16|regionidcity_16|regionidcounty_16|regionidneighborhood_16|regionidzip_16|roomcnt_16|storytypeid_16|threequarterbathnbr_16|typeconstructiontypeid_16|unitcnt_16|yardbuildingsqft17_16|yardbuildingsqft26_16|yearbuilt_16|numberofstories_16|fireplaceflag_16|structuretaxvaluedollarcnt_16|taxvaluedollarcnt_16|assessmentyear_16|landtaxvaluedollarcnt_16|taxamount_16|taxdelinquencyflag_16|taxdelinquencyyear_16|censustractandblock_16|     logerror_17|transactiondate_17|airconditioningtypeid_17|architecturalstyletypeid_17|basementsqft_17|bathroomcnt_17|bedroomcnt_17|buildingclasstypeid_17|buildingqualitytypeid_17|calculatedbathnbr_17|decktypeid_17|finishedfloor1squarefeet_17|calculatedfinishedsquarefeet_17|finishedsquarefeet12_17|finishedsquarefeet13_17|finishedsquarefeet15_17|finishedsquarefeet50_17|finishedsquarefeet6_17|fips_17|fireplacecnt_17|fullbathcnt_17|garagecarcnt_17|garagetotalsqft_17|hashottuborspa_17|heatingorsystemtypeid_17|latitude_17|longitude_17|lotsizesquarefeet_17|poolcnt_17|poolsizesum_17|pooltypeid10_17|pooltypeid2_17|pooltypeid7_17|propertycountylandusecode_17|propertylandusetypeid_17|propertyzoningdesc_17|rawcensustractandblock_17|regionidcity_17|regionidcounty_17|regionidneighborhood_17|regionidzip_17|roomcnt_17|storytypeid_17|threequarterbathnbr_17|typeconstructiontypeid_17|unitcnt_17|yardbuildingsqft17_17|yardbuildingsqft26_17|yearbuilt_17|numberofstories_17|fireplaceflag_17|structuretaxvaluedollarcnt_17|taxvaluedollarcnt_17|assessmentyear_17|landtaxvaluedollarcnt_17|taxamount_17|taxdelinquencyflag_17|taxdelinquencyyear_17|censustractandblock_17|\n",
       "+--------+-----------+------------------+------------------------+---------------------------+---------------+--------------+-------------+----------------------+------------------------+--------------------+-------------+---------------------------+-------------------------------+-----------------------+-----------------------+-----------------------+-----------------------+----------------------+-------+---------------+--------------+---------------+------------------+-----------------+------------------------+-----------+------------+--------------------+----------+--------------+---------------+--------------+--------------+----------------------------+------------------------+---------------------+-------------------------+---------------+-----------------+-----------------------+--------------+----------+--------------+----------------------+-------------------------+----------+---------------------+---------------------+------------+------------------+----------------+-----------------------------+--------------------+-----------------+------------------------+------------+---------------------+---------------------+----------------------+----------------+------------------+------------------------+---------------------------+---------------+--------------+-------------+----------------------+------------------------+--------------------+-------------+---------------------------+-------------------------------+-----------------------+-----------------------+-----------------------+-----------------------+----------------------+-------+---------------+--------------+---------------+------------------+-----------------+------------------------+-----------+------------+--------------------+----------+--------------+---------------+--------------+--------------+----------------------------+------------------------+---------------------+-------------------------+---------------+-----------------+-----------------------+--------------+----------+--------------+----------------------+-------------------------+----------+---------------------+---------------------+------------+------------------+----------------+-----------------------------+--------------------+-----------------+------------------------+------------+---------------------+---------------------+----------------------+\n",
       "|12643413|     0.0218|        2016-01-02|                       1|                       NULL|           NULL|           2.0|          2.0|                  NULL|                       4|                 2.0|         NULL|                       NULL|                          839.0|                    839|                   NULL|                   NULL|                   NULL|                  NULL|   6037|           NULL|             2|           NULL|              NULL|             NULL|                       2|   33755800|  -118309000|             70859.0|      NULL|          NULL|           NULL|          NULL|          NULL|                        010C|                     266|                 LAR3|        6.0372963002002E7|          12447|             3101|                  54300|         96222|       0.0|          NULL|                  NULL|                     NULL|         1|                 NULL|                 NULL|      1987.0|              NULL|            NULL|                     171518.0|            244880.0|             2015|                 73362.0|     3048.74|                 NULL|                 NULL|        60372963002002|            NULL|              NULL|                    NULL|                       NULL|           NULL|          NULL|         NULL|                  NULL|                    NULL|                NULL|         NULL|                       NULL|                           NULL|                   NULL|                   NULL|                   NULL|                   NULL|                  NULL|   NULL|           NULL|          NULL|           NULL|              NULL|             NULL|                    NULL|       NULL|        NULL|                NULL|      NULL|          NULL|           NULL|          NULL|          NULL|                        NULL|                    NULL|                 NULL|                     NULL|           NULL|             NULL|                   NULL|          NULL|      NULL|          NULL|                  NULL|                     NULL|      NULL|                 NULL|                 NULL|        NULL|              NULL|            NULL|                         NULL|                NULL|             NULL|                    NULL|        NULL|                 NULL|                 NULL|                  NULL|\n",
       "|12098116|     -0.004|        2016-01-01|                       1|                       NULL|           NULL|           3.0|          2.0|                  NULL|                       4|                 3.0|         NULL|                       NULL|                         2217.0|                   2217|                   NULL|                   NULL|                   NULL|                  NULL|   6037|           NULL|             3|           NULL|              NULL|             NULL|                       2|   34136312|  -118175032|             11423.0|      NULL|          NULL|           NULL|          NULL|          NULL|                        0100|                     261|                 PSR6|        6.0374638003004E7|          47019|             3101|                 275411|         96293|       0.0|          NULL|                  NULL|                     NULL|         1|                 NULL|                 NULL|      1940.0|              NULL|            NULL|                      61994.0|            119906.0|             2015|                 57912.0|    11484.48|                 NULL|                 NULL|        60374638003004|            NULL|              NULL|                    NULL|                       NULL|           NULL|          NULL|         NULL|                  NULL|                    NULL|                NULL|         NULL|                       NULL|                           NULL|                   NULL|                   NULL|                   NULL|                   NULL|                  NULL|   NULL|           NULL|          NULL|           NULL|              NULL|             NULL|                    NULL|       NULL|        NULL|                NULL|      NULL|          NULL|           NULL|          NULL|          NULL|                        NULL|                    NULL|                 NULL|                     NULL|           NULL|             NULL|                   NULL|          NULL|      NULL|          NULL|                  NULL|                     NULL|      NULL|                 NULL|                 NULL|        NULL|              NULL|            NULL|                         NULL|                NULL|             NULL|                    NULL|        NULL|                 NULL|                 NULL|                  NULL|\n",
       "|14366692|    -0.1684|        2016-01-01|                    NULL|                       NULL|           NULL|           3.5|          4.0|                  NULL|                    NULL|                 3.5|         NULL|                       NULL|                         2263.0|                   2263|                   NULL|                   NULL|                   NULL|                  NULL|   6059|           NULL|             3|              2|               468|             NULL|                    NULL|   33668120|  -117677556|              3643.0|      NULL|          NULL|           NULL|          NULL|          NULL|                           1|                     261|                 NULL|        6.0590524222024E7|          32380|             1286|                   NULL|         96962|       0.0|          NULL|                     1|                     NULL|      NULL|                 NULL|                 NULL|      2014.0|              NULL|            NULL|                     346458.0|            585529.0|             2015|                239071.0|    10153.02|                 NULL|                 NULL|                  NULL|0.00214159242517|        2017-08-04|                    NULL|                       NULL|           NULL|           3.5|          4.0|                  NULL|                    NULL|                 3.5|         NULL|                       NULL|                         2263.0|                   2263|                   NULL|                   NULL|                   NULL|                  NULL|   6059|           NULL|             3|              2|               468|             NULL|                    NULL|   33668120|  -117677556|              3643.0|      NULL|          NULL|           NULL|          NULL|          NULL|                           1|                     261|                 NULL|        6.0590524222024E7|          32380|             1286|                   NULL|         96962|       0.0|          NULL|                     1|                     NULL|      NULL|                 NULL|                 NULL|      2014.0|              NULL|            NULL|                     346458.0|            974900.0|             2016|                628442.0|    10153.02|                 NULL|                 NULL|                  NULL|\n",
       "|11016594|     0.0276|        2016-01-01|                       1|                       NULL|           NULL|           2.0|          3.0|                  NULL|                       4|                 2.0|         NULL|                       NULL|                         1684.0|                   1684|                   NULL|                   NULL|                   NULL|                  NULL|   6037|           NULL|             2|           NULL|              NULL|             NULL|                       2|   34280990|  -118488536|              7528.0|      NULL|          NULL|           NULL|          NULL|          NULL|                        0100|                     261|                 LARS|        6.0371066461001E7|          12447|             3101|                  31817|         96370|       0.0|          NULL|                  NULL|                     NULL|         1|                 NULL|                 NULL|      1959.0|              NULL|            NULL|                     122754.0|            360170.0|             2015|                237416.0|     6735.88|                 NULL|                 NULL|        60371066461001|            NULL|              NULL|                    NULL|                       NULL|           NULL|          NULL|         NULL|                  NULL|                    NULL|                NULL|         NULL|                       NULL|                           NULL|                   NULL|                   NULL|                   NULL|                   NULL|                  NULL|   NULL|           NULL|          NULL|           NULL|              NULL|             NULL|                    NULL|       NULL|        NULL|                NULL|      NULL|          NULL|           NULL|          NULL|          NULL|                        NULL|                    NULL|                 NULL|                     NULL|           NULL|             NULL|                   NULL|          NULL|      NULL|          NULL|                  NULL|                     NULL|      NULL|                 NULL|                 NULL|        NULL|              NULL|            NULL|                         NULL|                NULL|             NULL|                    NULL|        NULL|                 NULL|                 NULL|                  NULL|\n",
       "|14432541|     -0.005|        2016-01-02|                    NULL|                       NULL|           NULL|           2.5|          4.0|                  NULL|                    NULL|                 2.5|         NULL|                       NULL|                         2283.0|                   2283|                   NULL|                   NULL|                   NULL|                  NULL|   6059|           NULL|             2|              2|               598|             NULL|                    NULL|   33485643|  -117700234|              6000.0|         1|          NULL|           NULL|          NULL|             1|                         122|                     261|                 NULL|        6.0590423381006E7|          17686|             1286|                   NULL|         96961|       8.0|          NULL|                     1|                     NULL|      NULL|                 NULL|                 NULL|      1981.0|                 2|            NULL|                     169574.0|            434551.0|             2015|                264977.0|     5488.96|                 NULL|                 NULL|        60590423381006|            NULL|              NULL|                    NULL|                       NULL|           NULL|          NULL|         NULL|                  NULL|                    NULL|                NULL|         NULL|                       NULL|                           NULL|                   NULL|                   NULL|                   NULL|                   NULL|                  NULL|   NULL|           NULL|          NULL|           NULL|              NULL|             NULL|                    NULL|       NULL|        NULL|                NULL|      NULL|          NULL|           NULL|          NULL|          NULL|                        NULL|                    NULL|                 NULL|                     NULL|           NULL|             NULL|                   NULL|          NULL|      NULL|          NULL|                  NULL|                     NULL|      NULL|                 NULL|                 NULL|        NULL|              NULL|            NULL|                         NULL|                NULL|             NULL|                    NULL|        NULL|                 NULL|                 NULL|                  NULL|\n",
       "+--------+-----------+------------------+------------------------+---------------------------+---------------+--------------+-------------+----------------------+------------------------+--------------------+-------------+---------------------------+-------------------------------+-----------------------+-----------------------+-----------------------+-----------------------+----------------------+-------+---------------+--------------+---------------+------------------+-----------------+------------------------+-----------+------------+--------------------+----------+--------------+---------------+--------------+--------------+----------------------------+------------------------+---------------------+-------------------------+---------------+-----------------+-----------------------+--------------+----------+--------------+----------------------+-------------------------+----------+---------------------+---------------------+------------+------------------+----------------+-----------------------------+--------------------+-----------------+------------------------+------------+---------------------+---------------------+----------------------+----------------+------------------+------------------------+---------------------------+---------------+--------------+-------------+----------------------+------------------------+--------------------+-------------+---------------------------+-------------------------------+-----------------------+-----------------------+-----------------------+-----------------------+----------------------+-------+---------------+--------------+---------------+------------------+-----------------+------------------------+-----------+------------+--------------------+----------+--------------+---------------+--------------+--------------+----------------------------+------------------------+---------------------+-------------------------+---------------+-----------------+-----------------------+--------------+----------+--------------+----------------------+-------------------------+----------+---------------------+---------------------+------------+------------------+----------------+-----------------------------+--------------------+-----------------+------------------------+------------+---------------------+---------------------+----------------------+"
      ]
     },
     "execution_count": 14,
     "metadata": {},
     "output_type": "execute_result"
    }
   ],
   "source": [
    "df.limit(5)"
   ]
  },
  {
   "cell_type": "code",
   "execution_count": 15,
   "id": "03956baf-5021-4f98-8382-e60694a30792",
   "metadata": {},
   "outputs": [
    {
     "name": "stdout",
     "output_type": "stream",
     "text": [
      "Dataset current have 90277 records and 119 columns\n"
     ]
    }
   ],
   "source": [
    "print(f\"Dataset current have {df.count()} records and {len(df.columns)} columns\")"
   ]
  },
  {
   "cell_type": "code",
   "execution_count": 16,
   "id": "a24a4409-0d28-4f53-a4be-ea37aab6ae9d",
   "metadata": {},
   "outputs": [
    {
     "data": {
      "text/plain": [
       "[('parcelid', 'int'),\n",
       " ('logerror_16', 'double'),\n",
       " ('transactiondate_16', 'date'),\n",
       " ('airconditioningtypeid_16', 'int'),\n",
       " ('architecturalstyletypeid_16', 'int'),\n",
       " ('basementsqft_16', 'int'),\n",
       " ('bathroomcnt_16', 'double'),\n",
       " ('bedroomcnt_16', 'double'),\n",
       " ('buildingclasstypeid_16', 'int'),\n",
       " ('buildingqualitytypeid_16', 'int'),\n",
       " ('calculatedbathnbr_16', 'double'),\n",
       " ('decktypeid_16', 'int'),\n",
       " ('finishedfloor1squarefeet_16', 'int'),\n",
       " ('calculatedfinishedsquarefeet_16', 'double'),\n",
       " ('finishedsquarefeet12_16', 'int'),\n",
       " ('finishedsquarefeet13_16', 'int'),\n",
       " ('finishedsquarefeet15_16', 'int'),\n",
       " ('finishedsquarefeet50_16', 'int'),\n",
       " ('finishedsquarefeet6_16', 'int'),\n",
       " ('fips_16', 'int'),\n",
       " ('fireplacecnt_16', 'int'),\n",
       " ('fullbathcnt_16', 'int'),\n",
       " ('garagecarcnt_16', 'int'),\n",
       " ('garagetotalsqft_16', 'int'),\n",
       " ('hashottuborspa_16', 'boolean'),\n",
       " ('heatingorsystemtypeid_16', 'int'),\n",
       " ('latitude_16', 'int'),\n",
       " ('longitude_16', 'int'),\n",
       " ('lotsizesquarefeet_16', 'double'),\n",
       " ('poolcnt_16', 'int'),\n",
       " ('poolsizesum_16', 'int'),\n",
       " ('pooltypeid10_16', 'int'),\n",
       " ('pooltypeid2_16', 'int'),\n",
       " ('pooltypeid7_16', 'int'),\n",
       " ('propertycountylandusecode_16', 'string'),\n",
       " ('propertylandusetypeid_16', 'int'),\n",
       " ('propertyzoningdesc_16', 'string'),\n",
       " ('rawcensustractandblock_16', 'double'),\n",
       " ('regionidcity_16', 'int'),\n",
       " ('regionidcounty_16', 'int'),\n",
       " ('regionidneighborhood_16', 'int'),\n",
       " ('regionidzip_16', 'int'),\n",
       " ('roomcnt_16', 'double'),\n",
       " ('storytypeid_16', 'int'),\n",
       " ('threequarterbathnbr_16', 'int'),\n",
       " ('typeconstructiontypeid_16', 'int'),\n",
       " ('unitcnt_16', 'int'),\n",
       " ('yardbuildingsqft17_16', 'int'),\n",
       " ('yardbuildingsqft26_16', 'int'),\n",
       " ('yearbuilt_16', 'double'),\n",
       " ('numberofstories_16', 'int'),\n",
       " ('fireplaceflag_16', 'boolean'),\n",
       " ('structuretaxvaluedollarcnt_16', 'double'),\n",
       " ('taxvaluedollarcnt_16', 'double'),\n",
       " ('assessmentyear_16', 'int'),\n",
       " ('landtaxvaluedollarcnt_16', 'double'),\n",
       " ('taxamount_16', 'double'),\n",
       " ('taxdelinquencyflag_16', 'string'),\n",
       " ('taxdelinquencyyear_16', 'int'),\n",
       " ('censustractandblock_16', 'bigint'),\n",
       " ('logerror_17', 'double'),\n",
       " ('transactiondate_17', 'date'),\n",
       " ('airconditioningtypeid_17', 'int'),\n",
       " ('architecturalstyletypeid_17', 'int'),\n",
       " ('basementsqft_17', 'int'),\n",
       " ('bathroomcnt_17', 'double'),\n",
       " ('bedroomcnt_17', 'double'),\n",
       " ('buildingclasstypeid_17', 'int'),\n",
       " ('buildingqualitytypeid_17', 'int'),\n",
       " ('calculatedbathnbr_17', 'double'),\n",
       " ('decktypeid_17', 'int'),\n",
       " ('finishedfloor1squarefeet_17', 'int'),\n",
       " ('calculatedfinishedsquarefeet_17', 'double'),\n",
       " ('finishedsquarefeet12_17', 'int'),\n",
       " ('finishedsquarefeet13_17', 'int'),\n",
       " ('finishedsquarefeet15_17', 'int'),\n",
       " ('finishedsquarefeet50_17', 'int'),\n",
       " ('finishedsquarefeet6_17', 'int'),\n",
       " ('fips_17', 'int'),\n",
       " ('fireplacecnt_17', 'int'),\n",
       " ('fullbathcnt_17', 'int'),\n",
       " ('garagecarcnt_17', 'int'),\n",
       " ('garagetotalsqft_17', 'int'),\n",
       " ('hashottuborspa_17', 'boolean'),\n",
       " ('heatingorsystemtypeid_17', 'int'),\n",
       " ('latitude_17', 'int'),\n",
       " ('longitude_17', 'int'),\n",
       " ('lotsizesquarefeet_17', 'double'),\n",
       " ('poolcnt_17', 'int'),\n",
       " ('poolsizesum_17', 'int'),\n",
       " ('pooltypeid10_17', 'int'),\n",
       " ('pooltypeid2_17', 'int'),\n",
       " ('pooltypeid7_17', 'int'),\n",
       " ('propertycountylandusecode_17', 'string'),\n",
       " ('propertylandusetypeid_17', 'int'),\n",
       " ('propertyzoningdesc_17', 'string'),\n",
       " ('rawcensustractandblock_17', 'double'),\n",
       " ('regionidcity_17', 'int'),\n",
       " ('regionidcounty_17', 'int'),\n",
       " ('regionidneighborhood_17', 'int'),\n",
       " ('regionidzip_17', 'int'),\n",
       " ('roomcnt_17', 'double'),\n",
       " ('storytypeid_17', 'int'),\n",
       " ('threequarterbathnbr_17', 'int'),\n",
       " ('typeconstructiontypeid_17', 'int'),\n",
       " ('unitcnt_17', 'int'),\n",
       " ('yardbuildingsqft17_17', 'int'),\n",
       " ('yardbuildingsqft26_17', 'int'),\n",
       " ('yearbuilt_17', 'double'),\n",
       " ('numberofstories_17', 'int'),\n",
       " ('fireplaceflag_17', 'boolean'),\n",
       " ('structuretaxvaluedollarcnt_17', 'double'),\n",
       " ('taxvaluedollarcnt_17', 'double'),\n",
       " ('assessmentyear_17', 'int'),\n",
       " ('landtaxvaluedollarcnt_17', 'double'),\n",
       " ('taxamount_17', 'double'),\n",
       " ('taxdelinquencyflag_17', 'string'),\n",
       " ('taxdelinquencyyear_17', 'int'),\n",
       " ('censustractandblock_17', 'bigint')]"
      ]
     },
     "execution_count": 16,
     "metadata": {},
     "output_type": "execute_result"
    }
   ],
   "source": [
    "df.dtypes"
   ]
  },
  {
   "cell_type": "code",
   "execution_count": 10,
   "id": "d61f50ee-c763-427e-a2e1-4237d3482e0d",
   "metadata": {},
   "outputs": [],
   "source": [
    "# quantitative_variables\n",
    "quantitative_vars = [col[0] for col in df.dtypes if col[1] in ['int', 'bigint', 'double']]"
   ]
  },
  {
   "cell_type": "code",
   "execution_count": 11,
   "id": "d0112076-80d7-45bc-9061-24728f261b06",
   "metadata": {},
   "outputs": [],
   "source": [
    "# Qualitative_variables\n",
    "Qualitative_vars = [col[0] for col in df.dtypes if col[1] not in ['int', 'bigint', 'double']]"
   ]
  },
  {
   "cell_type": "code",
   "execution_count": 19,
   "id": "0d606d4e-ea54-4f01-b590-300b3532c4ef",
   "metadata": {},
   "outputs": [
    {
     "data": {
      "text/html": [
       "<table border='1'>\n",
       "<tr><th>parcelid</th><th>logerror_16</th><th>airconditioningtypeid_16</th><th>architecturalstyletypeid_16</th><th>basementsqft_16</th><th>bathroomcnt_16</th><th>bedroomcnt_16</th><th>buildingclasstypeid_16</th><th>buildingqualitytypeid_16</th><th>calculatedbathnbr_16</th><th>decktypeid_16</th><th>finishedfloor1squarefeet_16</th><th>calculatedfinishedsquarefeet_16</th><th>finishedsquarefeet12_16</th><th>finishedsquarefeet13_16</th><th>finishedsquarefeet15_16</th><th>finishedsquarefeet50_16</th><th>finishedsquarefeet6_16</th><th>fips_16</th><th>fireplacecnt_16</th><th>fullbathcnt_16</th><th>garagecarcnt_16</th><th>garagetotalsqft_16</th><th>heatingorsystemtypeid_16</th><th>latitude_16</th><th>longitude_16</th><th>lotsizesquarefeet_16</th><th>poolcnt_16</th><th>poolsizesum_16</th><th>pooltypeid10_16</th><th>pooltypeid2_16</th><th>pooltypeid7_16</th><th>propertylandusetypeid_16</th><th>rawcensustractandblock_16</th><th>regionidcity_16</th><th>regionidcounty_16</th><th>regionidneighborhood_16</th><th>regionidzip_16</th><th>roomcnt_16</th><th>storytypeid_16</th><th>threequarterbathnbr_16</th><th>typeconstructiontypeid_16</th><th>unitcnt_16</th><th>yardbuildingsqft17_16</th><th>yardbuildingsqft26_16</th><th>yearbuilt_16</th><th>numberofstories_16</th><th>structuretaxvaluedollarcnt_16</th><th>taxvaluedollarcnt_16</th><th>assessmentyear_16</th><th>landtaxvaluedollarcnt_16</th><th>taxamount_16</th><th>taxdelinquencyyear_16</th><th>censustractandblock_16</th><th>logerror_17</th><th>airconditioningtypeid_17</th><th>architecturalstyletypeid_17</th><th>basementsqft_17</th><th>bathroomcnt_17</th><th>bedroomcnt_17</th><th>buildingclasstypeid_17</th><th>buildingqualitytypeid_17</th><th>calculatedbathnbr_17</th><th>decktypeid_17</th><th>finishedfloor1squarefeet_17</th><th>calculatedfinishedsquarefeet_17</th><th>finishedsquarefeet12_17</th><th>finishedsquarefeet13_17</th><th>finishedsquarefeet15_17</th><th>finishedsquarefeet50_17</th><th>finishedsquarefeet6_17</th><th>fips_17</th><th>fireplacecnt_17</th><th>fullbathcnt_17</th><th>garagecarcnt_17</th><th>garagetotalsqft_17</th><th>heatingorsystemtypeid_17</th><th>latitude_17</th><th>longitude_17</th><th>lotsizesquarefeet_17</th><th>poolcnt_17</th><th>poolsizesum_17</th><th>pooltypeid10_17</th><th>pooltypeid2_17</th><th>pooltypeid7_17</th><th>propertylandusetypeid_17</th><th>rawcensustractandblock_17</th><th>regionidcity_17</th><th>regionidcounty_17</th><th>regionidneighborhood_17</th><th>regionidzip_17</th><th>roomcnt_17</th><th>storytypeid_17</th><th>threequarterbathnbr_17</th><th>typeconstructiontypeid_17</th><th>unitcnt_17</th><th>yardbuildingsqft17_17</th><th>yardbuildingsqft26_17</th><th>yearbuilt_17</th><th>numberofstories_17</th><th>structuretaxvaluedollarcnt_17</th><th>taxvaluedollarcnt_17</th><th>assessmentyear_17</th><th>landtaxvaluedollarcnt_17</th><th>taxamount_17</th><th>taxdelinquencyyear_17</th><th>censustractandblock_17</th></tr>\n",
       "<tr><td>12286022</td><td>0.044</td><td>NULL</td><td>NULL</td><td>NULL</td><td>1.0</td><td>2.0</td><td>NULL</td><td>7</td><td>1.0</td><td>NULL</td><td>NULL</td><td>1297.0</td><td>1297</td><td>NULL</td><td>NULL</td><td>NULL</td><td>NULL</td><td>6037</td><td>NULL</td><td>1</td><td>NULL</td><td>NULL</td><td>7</td><td>33899475</td><td>-118212720</td><td>6677.0</td><td>NULL</td><td>NULL</td><td>NULL</td><td>NULL</td><td>NULL</td><td>261</td><td>6.0375416053007E7</td><td>24174</td><td>3101</td><td>NULL</td><td>96091</td><td>0.0</td><td>NULL</td><td>NULL</td><td>NULL</td><td>1</td><td>NULL</td><td>NULL</td><td>1939.0</td><td>NULL</td><td>64549.0</td><td>111521.0</td><td>2015</td><td>46972.0</td><td>2304.97</td><td>NULL</td><td>60375416053007</td><td>NULL</td><td>NULL</td><td>NULL</td><td>NULL</td><td>NULL</td><td>NULL</td><td>NULL</td><td>NULL</td><td>NULL</td><td>NULL</td><td>NULL</td><td>NULL</td><td>NULL</td><td>NULL</td><td>NULL</td><td>NULL</td><td>NULL</td><td>NULL</td><td>NULL</td><td>NULL</td><td>NULL</td><td>NULL</td><td>NULL</td><td>NULL</td><td>NULL</td><td>NULL</td><td>NULL</td><td>NULL</td><td>NULL</td><td>NULL</td><td>NULL</td><td>NULL</td><td>NULL</td><td>NULL</td><td>NULL</td><td>NULL</td><td>NULL</td><td>NULL</td><td>NULL</td><td>NULL</td><td>NULL</td><td>NULL</td><td>NULL</td><td>NULL</td><td>NULL</td><td>NULL</td><td>NULL</td><td>NULL</td><td>NULL</td><td>NULL</td><td>NULL</td><td>NULL</td><td>NULL</td></tr>\n",
       "<tr><td>12643413</td><td>0.0218</td><td>1</td><td>NULL</td><td>NULL</td><td>2.0</td><td>2.0</td><td>NULL</td><td>4</td><td>2.0</td><td>NULL</td><td>NULL</td><td>839.0</td><td>839</td><td>NULL</td><td>NULL</td><td>NULL</td><td>NULL</td><td>6037</td><td>NULL</td><td>2</td><td>NULL</td><td>NULL</td><td>2</td><td>33755800</td><td>-118309000</td><td>70859.0</td><td>NULL</td><td>NULL</td><td>NULL</td><td>NULL</td><td>NULL</td><td>266</td><td>6.0372963002002E7</td><td>12447</td><td>3101</td><td>54300</td><td>96222</td><td>0.0</td><td>NULL</td><td>NULL</td><td>NULL</td><td>1</td><td>NULL</td><td>NULL</td><td>1987.0</td><td>NULL</td><td>171518.0</td><td>244880.0</td><td>2015</td><td>73362.0</td><td>3048.74</td><td>NULL</td><td>60372963002002</td><td>NULL</td><td>NULL</td><td>NULL</td><td>NULL</td><td>NULL</td><td>NULL</td><td>NULL</td><td>NULL</td><td>NULL</td><td>NULL</td><td>NULL</td><td>NULL</td><td>NULL</td><td>NULL</td><td>NULL</td><td>NULL</td><td>NULL</td><td>NULL</td><td>NULL</td><td>NULL</td><td>NULL</td><td>NULL</td><td>NULL</td><td>NULL</td><td>NULL</td><td>NULL</td><td>NULL</td><td>NULL</td><td>NULL</td><td>NULL</td><td>NULL</td><td>NULL</td><td>NULL</td><td>NULL</td><td>NULL</td><td>NULL</td><td>NULL</td><td>NULL</td><td>NULL</td><td>NULL</td><td>NULL</td><td>NULL</td><td>NULL</td><td>NULL</td><td>NULL</td><td>NULL</td><td>NULL</td><td>NULL</td><td>NULL</td><td>NULL</td><td>NULL</td><td>NULL</td><td>NULL</td></tr>\n",
       "<tr><td>14677559</td><td>0.0843</td><td>NULL</td><td>NULL</td><td>NULL</td><td>2.0</td><td>2.0</td><td>NULL</td><td>NULL</td><td>2.0</td><td>NULL</td><td>NULL</td><td>1260.0</td><td>1260</td><td>NULL</td><td>NULL</td><td>NULL</td><td>NULL</td><td>6059</td><td>NULL</td><td>2</td><td>1</td><td>0</td><td>NULL</td><td>33612700</td><td>-117742000</td><td>NULL</td><td>NULL</td><td>NULL</td><td>NULL</td><td>NULL</td><td>NULL</td><td>266</td><td>6.0590626483005E7</td><td>46098</td><td>1286</td><td>NULL</td><td>96963</td><td>5.0</td><td>NULL</td><td>NULL</td><td>NULL</td><td>NULL</td><td>NULL</td><td>NULL</td><td>1977.0</td><td>1</td><td>109977.0</td><td>190960.0</td><td>2015</td><td>80983.0</td><td>1940.26</td><td>NULL</td><td>60590626483015</td><td>NULL</td><td>NULL</td><td>NULL</td><td>NULL</td><td>NULL</td><td>NULL</td><td>NULL</td><td>NULL</td><td>NULL</td><td>NULL</td><td>NULL</td><td>NULL</td><td>NULL</td><td>NULL</td><td>NULL</td><td>NULL</td><td>NULL</td><td>NULL</td><td>NULL</td><td>NULL</td><td>NULL</td><td>NULL</td><td>NULL</td><td>NULL</td><td>NULL</td><td>NULL</td><td>NULL</td><td>NULL</td><td>NULL</td><td>NULL</td><td>NULL</td><td>NULL</td><td>NULL</td><td>NULL</td><td>NULL</td><td>NULL</td><td>NULL</td><td>NULL</td><td>NULL</td><td>NULL</td><td>NULL</td><td>NULL</td><td>NULL</td><td>NULL</td><td>NULL</td><td>NULL</td><td>NULL</td><td>NULL</td><td>NULL</td><td>NULL</td><td>NULL</td><td>NULL</td><td>NULL</td></tr>\n",
       "<tr><td>12098116</td><td>-0.004</td><td>1</td><td>NULL</td><td>NULL</td><td>3.0</td><td>2.0</td><td>NULL</td><td>4</td><td>3.0</td><td>NULL</td><td>NULL</td><td>2217.0</td><td>2217</td><td>NULL</td><td>NULL</td><td>NULL</td><td>NULL</td><td>6037</td><td>NULL</td><td>3</td><td>NULL</td><td>NULL</td><td>2</td><td>34136312</td><td>-118175032</td><td>11423.0</td><td>NULL</td><td>NULL</td><td>NULL</td><td>NULL</td><td>NULL</td><td>261</td><td>6.0374638003004E7</td><td>47019</td><td>3101</td><td>275411</td><td>96293</td><td>0.0</td><td>NULL</td><td>NULL</td><td>NULL</td><td>1</td><td>NULL</td><td>NULL</td><td>1940.0</td><td>NULL</td><td>61994.0</td><td>119906.0</td><td>2015</td><td>57912.0</td><td>11484.48</td><td>NULL</td><td>60374638003004</td><td>NULL</td><td>NULL</td><td>NULL</td><td>NULL</td><td>NULL</td><td>NULL</td><td>NULL</td><td>NULL</td><td>NULL</td><td>NULL</td><td>NULL</td><td>NULL</td><td>NULL</td><td>NULL</td><td>NULL</td><td>NULL</td><td>NULL</td><td>NULL</td><td>NULL</td><td>NULL</td><td>NULL</td><td>NULL</td><td>NULL</td><td>NULL</td><td>NULL</td><td>NULL</td><td>NULL</td><td>NULL</td><td>NULL</td><td>NULL</td><td>NULL</td><td>NULL</td><td>NULL</td><td>NULL</td><td>NULL</td><td>NULL</td><td>NULL</td><td>NULL</td><td>NULL</td><td>NULL</td><td>NULL</td><td>NULL</td><td>NULL</td><td>NULL</td><td>NULL</td><td>NULL</td><td>NULL</td><td>NULL</td><td>NULL</td><td>NULL</td><td>NULL</td><td>NULL</td><td>NULL</td></tr>\n",
       "<tr><td>14366692</td><td>-0.1684</td><td>NULL</td><td>NULL</td><td>NULL</td><td>3.5</td><td>4.0</td><td>NULL</td><td>NULL</td><td>3.5</td><td>NULL</td><td>NULL</td><td>2263.0</td><td>2263</td><td>NULL</td><td>NULL</td><td>NULL</td><td>NULL</td><td>6059</td><td>NULL</td><td>3</td><td>2</td><td>468</td><td>NULL</td><td>33668120</td><td>-117677556</td><td>3643.0</td><td>NULL</td><td>NULL</td><td>NULL</td><td>NULL</td><td>NULL</td><td>261</td><td>6.0590524222024E7</td><td>32380</td><td>1286</td><td>NULL</td><td>96962</td><td>0.0</td><td>NULL</td><td>1</td><td>NULL</td><td>NULL</td><td>NULL</td><td>NULL</td><td>2014.0</td><td>NULL</td><td>346458.0</td><td>585529.0</td><td>2015</td><td>239071.0</td><td>10153.02</td><td>NULL</td><td>NULL</td><td>0.00214159242517</td><td>NULL</td><td>NULL</td><td>NULL</td><td>3.5</td><td>4.0</td><td>NULL</td><td>NULL</td><td>3.5</td><td>NULL</td><td>NULL</td><td>2263.0</td><td>2263</td><td>NULL</td><td>NULL</td><td>NULL</td><td>NULL</td><td>6059</td><td>NULL</td><td>3</td><td>2</td><td>468</td><td>NULL</td><td>33668120</td><td>-117677556</td><td>3643.0</td><td>NULL</td><td>NULL</td><td>NULL</td><td>NULL</td><td>NULL</td><td>261</td><td>6.0590524222024E7</td><td>32380</td><td>1286</td><td>NULL</td><td>96962</td><td>0.0</td><td>NULL</td><td>1</td><td>NULL</td><td>NULL</td><td>NULL</td><td>NULL</td><td>2014.0</td><td>NULL</td><td>346458.0</td><td>974900.0</td><td>2016</td><td>628442.0</td><td>10153.02</td><td>NULL</td><td>NULL</td></tr>\n",
       "<tr><td>11016594</td><td>0.0276</td><td>1</td><td>NULL</td><td>NULL</td><td>2.0</td><td>3.0</td><td>NULL</td><td>4</td><td>2.0</td><td>NULL</td><td>NULL</td><td>1684.0</td><td>1684</td><td>NULL</td><td>NULL</td><td>NULL</td><td>NULL</td><td>6037</td><td>NULL</td><td>2</td><td>NULL</td><td>NULL</td><td>2</td><td>34280990</td><td>-118488536</td><td>7528.0</td><td>NULL</td><td>NULL</td><td>NULL</td><td>NULL</td><td>NULL</td><td>261</td><td>6.0371066461001E7</td><td>12447</td><td>3101</td><td>31817</td><td>96370</td><td>0.0</td><td>NULL</td><td>NULL</td><td>NULL</td><td>1</td><td>NULL</td><td>NULL</td><td>1959.0</td><td>NULL</td><td>122754.0</td><td>360170.0</td><td>2015</td><td>237416.0</td><td>6735.88</td><td>NULL</td><td>60371066461001</td><td>NULL</td><td>NULL</td><td>NULL</td><td>NULL</td><td>NULL</td><td>NULL</td><td>NULL</td><td>NULL</td><td>NULL</td><td>NULL</td><td>NULL</td><td>NULL</td><td>NULL</td><td>NULL</td><td>NULL</td><td>NULL</td><td>NULL</td><td>NULL</td><td>NULL</td><td>NULL</td><td>NULL</td><td>NULL</td><td>NULL</td><td>NULL</td><td>NULL</td><td>NULL</td><td>NULL</td><td>NULL</td><td>NULL</td><td>NULL</td><td>NULL</td><td>NULL</td><td>NULL</td><td>NULL</td><td>NULL</td><td>NULL</td><td>NULL</td><td>NULL</td><td>NULL</td><td>NULL</td><td>NULL</td><td>NULL</td><td>NULL</td><td>NULL</td><td>NULL</td><td>NULL</td><td>NULL</td><td>NULL</td><td>NULL</td><td>NULL</td><td>NULL</td><td>NULL</td><td>NULL</td></tr>\n",
       "<tr><td>11509835</td><td>-0.2705</td><td>1</td><td>NULL</td><td>NULL</td><td>4.0</td><td>4.0</td><td>NULL</td><td>1</td><td>4.0</td><td>NULL</td><td>NULL</td><td>3067.0</td><td>3067</td><td>NULL</td><td>NULL</td><td>NULL</td><td>NULL</td><td>6037</td><td>NULL</td><td>4</td><td>NULL</td><td>NULL</td><td>2</td><td>33870089</td><td>-118402768</td><td>2708.0</td><td>NULL</td><td>NULL</td><td>NULL</td><td>NULL</td><td>NULL</td><td>261</td><td>6.0376210044006E7</td><td>29712</td><td>3101</td><td>NULL</td><td>96109</td><td>0.0</td><td>NULL</td><td>NULL</td><td>NULL</td><td>1</td><td>NULL</td><td>NULL</td><td>1982.0</td><td>NULL</td><td>880650.0</td><td>2447951.0</td><td>2015</td><td>1567301.0</td><td>27126.57</td><td>NULL</td><td>60376210044006</td><td>NULL</td><td>NULL</td><td>NULL</td><td>NULL</td><td>NULL</td><td>NULL</td><td>NULL</td><td>NULL</td><td>NULL</td><td>NULL</td><td>NULL</td><td>NULL</td><td>NULL</td><td>NULL</td><td>NULL</td><td>NULL</td><td>NULL</td><td>NULL</td><td>NULL</td><td>NULL</td><td>NULL</td><td>NULL</td><td>NULL</td><td>NULL</td><td>NULL</td><td>NULL</td><td>NULL</td><td>NULL</td><td>NULL</td><td>NULL</td><td>NULL</td><td>NULL</td><td>NULL</td><td>NULL</td><td>NULL</td><td>NULL</td><td>NULL</td><td>NULL</td><td>NULL</td><td>NULL</td><td>NULL</td><td>NULL</td><td>NULL</td><td>NULL</td><td>NULL</td><td>NULL</td><td>NULL</td><td>NULL</td><td>NULL</td><td>NULL</td><td>NULL</td><td>NULL</td><td>NULL</td></tr>\n",
       "<tr><td>14432541</td><td>-0.005</td><td>NULL</td><td>NULL</td><td>NULL</td><td>2.5</td><td>4.0</td><td>NULL</td><td>NULL</td><td>2.5</td><td>NULL</td><td>NULL</td><td>2283.0</td><td>2283</td><td>NULL</td><td>NULL</td><td>NULL</td><td>NULL</td><td>6059</td><td>NULL</td><td>2</td><td>2</td><td>598</td><td>NULL</td><td>33485643</td><td>-117700234</td><td>6000.0</td><td>1</td><td>NULL</td><td>NULL</td><td>NULL</td><td>1</td><td>261</td><td>6.0590423381006E7</td><td>17686</td><td>1286</td><td>NULL</td><td>96961</td><td>8.0</td><td>NULL</td><td>1</td><td>NULL</td><td>NULL</td><td>NULL</td><td>NULL</td><td>1981.0</td><td>2</td><td>169574.0</td><td>434551.0</td><td>2015</td><td>264977.0</td><td>5488.96</td><td>NULL</td><td>60590423381006</td><td>NULL</td><td>NULL</td><td>NULL</td><td>NULL</td><td>NULL</td><td>NULL</td><td>NULL</td><td>NULL</td><td>NULL</td><td>NULL</td><td>NULL</td><td>NULL</td><td>NULL</td><td>NULL</td><td>NULL</td><td>NULL</td><td>NULL</td><td>NULL</td><td>NULL</td><td>NULL</td><td>NULL</td><td>NULL</td><td>NULL</td><td>NULL</td><td>NULL</td><td>NULL</td><td>NULL</td><td>NULL</td><td>NULL</td><td>NULL</td><td>NULL</td><td>NULL</td><td>NULL</td><td>NULL</td><td>NULL</td><td>NULL</td><td>NULL</td><td>NULL</td><td>NULL</td><td>NULL</td><td>NULL</td><td>NULL</td><td>NULL</td><td>NULL</td><td>NULL</td><td>NULL</td><td>NULL</td><td>NULL</td><td>NULL</td><td>NULL</td><td>NULL</td><td>NULL</td><td>NULL</td></tr>\n",
       "<tr><td>17177301</td><td>0.1638</td><td>NULL</td><td>NULL</td><td>NULL</td><td>2.5</td><td>3.0</td><td>NULL</td><td>NULL</td><td>2.5</td><td>NULL</td><td>853</td><td>1763.0</td><td>1763</td><td>NULL</td><td>NULL</td><td>853</td><td>NULL</td><td>6111</td><td>1</td><td>2</td><td>2</td><td>0</td><td>NULL</td><td>34207204</td><td>-119165589</td><td>NULL</td><td>NULL</td><td>NULL</td><td>NULL</td><td>NULL</td><td>NULL</td><td>266</td><td>6.1110031002073E7</td><td>13150</td><td>2061</td><td>NULL</td><td>97101</td><td>6.0</td><td>NULL</td><td>1</td><td>NULL</td><td>NULL</td><td>NULL</td><td>NULL</td><td>1994.0</td><td>2</td><td>107000.0</td><td>306000.0</td><td>2015</td><td>199000.0</td><td>3745.5</td><td>NULL</td><td>61110031002073</td><td>NULL</td><td>NULL</td><td>NULL</td><td>NULL</td><td>NULL</td><td>NULL</td><td>NULL</td><td>NULL</td><td>NULL</td><td>NULL</td><td>NULL</td><td>NULL</td><td>NULL</td><td>NULL</td><td>NULL</td><td>NULL</td><td>NULL</td><td>NULL</td><td>NULL</td><td>NULL</td><td>NULL</td><td>NULL</td><td>NULL</td><td>NULL</td><td>NULL</td><td>NULL</td><td>NULL</td><td>NULL</td><td>NULL</td><td>NULL</td><td>NULL</td><td>NULL</td><td>NULL</td><td>NULL</td><td>NULL</td><td>NULL</td><td>NULL</td><td>NULL</td><td>NULL</td><td>NULL</td><td>NULL</td><td>NULL</td><td>NULL</td><td>NULL</td><td>NULL</td><td>NULL</td><td>NULL</td><td>NULL</td><td>NULL</td><td>NULL</td><td>NULL</td><td>NULL</td><td>NULL</td></tr>\n",
       "<tr><td>14739064</td><td>-0.003</td><td>NULL</td><td>NULL</td><td>NULL</td><td>1.0</td><td>2.0</td><td>NULL</td><td>NULL</td><td>1.0</td><td>NULL</td><td>NULL</td><td>796.0</td><td>796</td><td>NULL</td><td>NULL</td><td>NULL</td><td>NULL</td><td>6059</td><td>NULL</td><td>1</td><td>1</td><td>0</td><td>NULL</td><td>33549600</td><td>-117678000</td><td>NULL</td><td>NULL</td><td>NULL</td><td>NULL</td><td>NULL</td><td>NULL</td><td>266</td><td>6.0590423151019E7</td><td>25459</td><td>1286</td><td>NULL</td><td>96987</td><td>0.0</td><td>NULL</td><td>NULL</td><td>NULL</td><td>NULL</td><td>NULL</td><td>NULL</td><td>1984.0</td><td>NULL</td><td>66834.0</td><td>210064.0</td><td>2015</td><td>143230.0</td><td>2172.88</td><td>NULL</td><td>60590423151018</td><td>NULL</td><td>NULL</td><td>NULL</td><td>NULL</td><td>NULL</td><td>NULL</td><td>NULL</td><td>NULL</td><td>NULL</td><td>NULL</td><td>NULL</td><td>NULL</td><td>NULL</td><td>NULL</td><td>NULL</td><td>NULL</td><td>NULL</td><td>NULL</td><td>NULL</td><td>NULL</td><td>NULL</td><td>NULL</td><td>NULL</td><td>NULL</td><td>NULL</td><td>NULL</td><td>NULL</td><td>NULL</td><td>NULL</td><td>NULL</td><td>NULL</td><td>NULL</td><td>NULL</td><td>NULL</td><td>NULL</td><td>NULL</td><td>NULL</td><td>NULL</td><td>NULL</td><td>NULL</td><td>NULL</td><td>NULL</td><td>NULL</td><td>NULL</td><td>NULL</td><td>NULL</td><td>NULL</td><td>NULL</td><td>NULL</td><td>NULL</td><td>NULL</td><td>NULL</td><td>NULL</td></tr>\n",
       "</table>\n"
      ],
      "text/plain": [
       "+--------+-----------+------------------------+---------------------------+---------------+--------------+-------------+----------------------+------------------------+--------------------+-------------+---------------------------+-------------------------------+-----------------------+-----------------------+-----------------------+-----------------------+----------------------+-------+---------------+--------------+---------------+------------------+------------------------+-----------+------------+--------------------+----------+--------------+---------------+--------------+--------------+------------------------+-------------------------+---------------+-----------------+-----------------------+--------------+----------+--------------+----------------------+-------------------------+----------+---------------------+---------------------+------------+------------------+-----------------------------+--------------------+-----------------+------------------------+------------+---------------------+----------------------+----------------+------------------------+---------------------------+---------------+--------------+-------------+----------------------+------------------------+--------------------+-------------+---------------------------+-------------------------------+-----------------------+-----------------------+-----------------------+-----------------------+----------------------+-------+---------------+--------------+---------------+------------------+------------------------+-----------+------------+--------------------+----------+--------------+---------------+--------------+--------------+------------------------+-------------------------+---------------+-----------------+-----------------------+--------------+----------+--------------+----------------------+-------------------------+----------+---------------------+---------------------+------------+------------------+-----------------------------+--------------------+-----------------+------------------------+------------+---------------------+----------------------+\n",
       "|parcelid|logerror_16|airconditioningtypeid_16|architecturalstyletypeid_16|basementsqft_16|bathroomcnt_16|bedroomcnt_16|buildingclasstypeid_16|buildingqualitytypeid_16|calculatedbathnbr_16|decktypeid_16|finishedfloor1squarefeet_16|calculatedfinishedsquarefeet_16|finishedsquarefeet12_16|finishedsquarefeet13_16|finishedsquarefeet15_16|finishedsquarefeet50_16|finishedsquarefeet6_16|fips_16|fireplacecnt_16|fullbathcnt_16|garagecarcnt_16|garagetotalsqft_16|heatingorsystemtypeid_16|latitude_16|longitude_16|lotsizesquarefeet_16|poolcnt_16|poolsizesum_16|pooltypeid10_16|pooltypeid2_16|pooltypeid7_16|propertylandusetypeid_16|rawcensustractandblock_16|regionidcity_16|regionidcounty_16|regionidneighborhood_16|regionidzip_16|roomcnt_16|storytypeid_16|threequarterbathnbr_16|typeconstructiontypeid_16|unitcnt_16|yardbuildingsqft17_16|yardbuildingsqft26_16|yearbuilt_16|numberofstories_16|structuretaxvaluedollarcnt_16|taxvaluedollarcnt_16|assessmentyear_16|landtaxvaluedollarcnt_16|taxamount_16|taxdelinquencyyear_16|censustractandblock_16|     logerror_17|airconditioningtypeid_17|architecturalstyletypeid_17|basementsqft_17|bathroomcnt_17|bedroomcnt_17|buildingclasstypeid_17|buildingqualitytypeid_17|calculatedbathnbr_17|decktypeid_17|finishedfloor1squarefeet_17|calculatedfinishedsquarefeet_17|finishedsquarefeet12_17|finishedsquarefeet13_17|finishedsquarefeet15_17|finishedsquarefeet50_17|finishedsquarefeet6_17|fips_17|fireplacecnt_17|fullbathcnt_17|garagecarcnt_17|garagetotalsqft_17|heatingorsystemtypeid_17|latitude_17|longitude_17|lotsizesquarefeet_17|poolcnt_17|poolsizesum_17|pooltypeid10_17|pooltypeid2_17|pooltypeid7_17|propertylandusetypeid_17|rawcensustractandblock_17|regionidcity_17|regionidcounty_17|regionidneighborhood_17|regionidzip_17|roomcnt_17|storytypeid_17|threequarterbathnbr_17|typeconstructiontypeid_17|unitcnt_17|yardbuildingsqft17_17|yardbuildingsqft26_17|yearbuilt_17|numberofstories_17|structuretaxvaluedollarcnt_17|taxvaluedollarcnt_17|assessmentyear_17|landtaxvaluedollarcnt_17|taxamount_17|taxdelinquencyyear_17|censustractandblock_17|\n",
       "+--------+-----------+------------------------+---------------------------+---------------+--------------+-------------+----------------------+------------------------+--------------------+-------------+---------------------------+-------------------------------+-----------------------+-----------------------+-----------------------+-----------------------+----------------------+-------+---------------+--------------+---------------+------------------+------------------------+-----------+------------+--------------------+----------+--------------+---------------+--------------+--------------+------------------------+-------------------------+---------------+-----------------+-----------------------+--------------+----------+--------------+----------------------+-------------------------+----------+---------------------+---------------------+------------+------------------+-----------------------------+--------------------+-----------------+------------------------+------------+---------------------+----------------------+----------------+------------------------+---------------------------+---------------+--------------+-------------+----------------------+------------------------+--------------------+-------------+---------------------------+-------------------------------+-----------------------+-----------------------+-----------------------+-----------------------+----------------------+-------+---------------+--------------+---------------+------------------+------------------------+-----------+------------+--------------------+----------+--------------+---------------+--------------+--------------+------------------------+-------------------------+---------------+-----------------+-----------------------+--------------+----------+--------------+----------------------+-------------------------+----------+---------------------+---------------------+------------+------------------+-----------------------------+--------------------+-----------------+------------------------+------------+---------------------+----------------------+\n",
       "|12286022|      0.044|                    NULL|                       NULL|           NULL|           1.0|          2.0|                  NULL|                       7|                 1.0|         NULL|                       NULL|                         1297.0|                   1297|                   NULL|                   NULL|                   NULL|                  NULL|   6037|           NULL|             1|           NULL|              NULL|                       7|   33899475|  -118212720|              6677.0|      NULL|          NULL|           NULL|          NULL|          NULL|                     261|        6.0375416053007E7|          24174|             3101|                   NULL|         96091|       0.0|          NULL|                  NULL|                     NULL|         1|                 NULL|                 NULL|      1939.0|              NULL|                      64549.0|            111521.0|             2015|                 46972.0|     2304.97|                 NULL|        60375416053007|            NULL|                    NULL|                       NULL|           NULL|          NULL|         NULL|                  NULL|                    NULL|                NULL|         NULL|                       NULL|                           NULL|                   NULL|                   NULL|                   NULL|                   NULL|                  NULL|   NULL|           NULL|          NULL|           NULL|              NULL|                    NULL|       NULL|        NULL|                NULL|      NULL|          NULL|           NULL|          NULL|          NULL|                    NULL|                     NULL|           NULL|             NULL|                   NULL|          NULL|      NULL|          NULL|                  NULL|                     NULL|      NULL|                 NULL|                 NULL|        NULL|              NULL|                         NULL|                NULL|             NULL|                    NULL|        NULL|                 NULL|                  NULL|\n",
       "|12643413|     0.0218|                       1|                       NULL|           NULL|           2.0|          2.0|                  NULL|                       4|                 2.0|         NULL|                       NULL|                          839.0|                    839|                   NULL|                   NULL|                   NULL|                  NULL|   6037|           NULL|             2|           NULL|              NULL|                       2|   33755800|  -118309000|             70859.0|      NULL|          NULL|           NULL|          NULL|          NULL|                     266|        6.0372963002002E7|          12447|             3101|                  54300|         96222|       0.0|          NULL|                  NULL|                     NULL|         1|                 NULL|                 NULL|      1987.0|              NULL|                     171518.0|            244880.0|             2015|                 73362.0|     3048.74|                 NULL|        60372963002002|            NULL|                    NULL|                       NULL|           NULL|          NULL|         NULL|                  NULL|                    NULL|                NULL|         NULL|                       NULL|                           NULL|                   NULL|                   NULL|                   NULL|                   NULL|                  NULL|   NULL|           NULL|          NULL|           NULL|              NULL|                    NULL|       NULL|        NULL|                NULL|      NULL|          NULL|           NULL|          NULL|          NULL|                    NULL|                     NULL|           NULL|             NULL|                   NULL|          NULL|      NULL|          NULL|                  NULL|                     NULL|      NULL|                 NULL|                 NULL|        NULL|              NULL|                         NULL|                NULL|             NULL|                    NULL|        NULL|                 NULL|                  NULL|\n",
       "|14677559|     0.0843|                    NULL|                       NULL|           NULL|           2.0|          2.0|                  NULL|                    NULL|                 2.0|         NULL|                       NULL|                         1260.0|                   1260|                   NULL|                   NULL|                   NULL|                  NULL|   6059|           NULL|             2|              1|                 0|                    NULL|   33612700|  -117742000|                NULL|      NULL|          NULL|           NULL|          NULL|          NULL|                     266|        6.0590626483005E7|          46098|             1286|                   NULL|         96963|       5.0|          NULL|                  NULL|                     NULL|      NULL|                 NULL|                 NULL|      1977.0|                 1|                     109977.0|            190960.0|             2015|                 80983.0|     1940.26|                 NULL|        60590626483015|            NULL|                    NULL|                       NULL|           NULL|          NULL|         NULL|                  NULL|                    NULL|                NULL|         NULL|                       NULL|                           NULL|                   NULL|                   NULL|                   NULL|                   NULL|                  NULL|   NULL|           NULL|          NULL|           NULL|              NULL|                    NULL|       NULL|        NULL|                NULL|      NULL|          NULL|           NULL|          NULL|          NULL|                    NULL|                     NULL|           NULL|             NULL|                   NULL|          NULL|      NULL|          NULL|                  NULL|                     NULL|      NULL|                 NULL|                 NULL|        NULL|              NULL|                         NULL|                NULL|             NULL|                    NULL|        NULL|                 NULL|                  NULL|\n",
       "|12098116|     -0.004|                       1|                       NULL|           NULL|           3.0|          2.0|                  NULL|                       4|                 3.0|         NULL|                       NULL|                         2217.0|                   2217|                   NULL|                   NULL|                   NULL|                  NULL|   6037|           NULL|             3|           NULL|              NULL|                       2|   34136312|  -118175032|             11423.0|      NULL|          NULL|           NULL|          NULL|          NULL|                     261|        6.0374638003004E7|          47019|             3101|                 275411|         96293|       0.0|          NULL|                  NULL|                     NULL|         1|                 NULL|                 NULL|      1940.0|              NULL|                      61994.0|            119906.0|             2015|                 57912.0|    11484.48|                 NULL|        60374638003004|            NULL|                    NULL|                       NULL|           NULL|          NULL|         NULL|                  NULL|                    NULL|                NULL|         NULL|                       NULL|                           NULL|                   NULL|                   NULL|                   NULL|                   NULL|                  NULL|   NULL|           NULL|          NULL|           NULL|              NULL|                    NULL|       NULL|        NULL|                NULL|      NULL|          NULL|           NULL|          NULL|          NULL|                    NULL|                     NULL|           NULL|             NULL|                   NULL|          NULL|      NULL|          NULL|                  NULL|                     NULL|      NULL|                 NULL|                 NULL|        NULL|              NULL|                         NULL|                NULL|             NULL|                    NULL|        NULL|                 NULL|                  NULL|\n",
       "|14366692|    -0.1684|                    NULL|                       NULL|           NULL|           3.5|          4.0|                  NULL|                    NULL|                 3.5|         NULL|                       NULL|                         2263.0|                   2263|                   NULL|                   NULL|                   NULL|                  NULL|   6059|           NULL|             3|              2|               468|                    NULL|   33668120|  -117677556|              3643.0|      NULL|          NULL|           NULL|          NULL|          NULL|                     261|        6.0590524222024E7|          32380|             1286|                   NULL|         96962|       0.0|          NULL|                     1|                     NULL|      NULL|                 NULL|                 NULL|      2014.0|              NULL|                     346458.0|            585529.0|             2015|                239071.0|    10153.02|                 NULL|                  NULL|0.00214159242517|                    NULL|                       NULL|           NULL|           3.5|          4.0|                  NULL|                    NULL|                 3.5|         NULL|                       NULL|                         2263.0|                   2263|                   NULL|                   NULL|                   NULL|                  NULL|   6059|           NULL|             3|              2|               468|                    NULL|   33668120|  -117677556|              3643.0|      NULL|          NULL|           NULL|          NULL|          NULL|                     261|        6.0590524222024E7|          32380|             1286|                   NULL|         96962|       0.0|          NULL|                     1|                     NULL|      NULL|                 NULL|                 NULL|      2014.0|              NULL|                     346458.0|            974900.0|             2016|                628442.0|    10153.02|                 NULL|                  NULL|\n",
       "|11016594|     0.0276|                       1|                       NULL|           NULL|           2.0|          3.0|                  NULL|                       4|                 2.0|         NULL|                       NULL|                         1684.0|                   1684|                   NULL|                   NULL|                   NULL|                  NULL|   6037|           NULL|             2|           NULL|              NULL|                       2|   34280990|  -118488536|              7528.0|      NULL|          NULL|           NULL|          NULL|          NULL|                     261|        6.0371066461001E7|          12447|             3101|                  31817|         96370|       0.0|          NULL|                  NULL|                     NULL|         1|                 NULL|                 NULL|      1959.0|              NULL|                     122754.0|            360170.0|             2015|                237416.0|     6735.88|                 NULL|        60371066461001|            NULL|                    NULL|                       NULL|           NULL|          NULL|         NULL|                  NULL|                    NULL|                NULL|         NULL|                       NULL|                           NULL|                   NULL|                   NULL|                   NULL|                   NULL|                  NULL|   NULL|           NULL|          NULL|           NULL|              NULL|                    NULL|       NULL|        NULL|                NULL|      NULL|          NULL|           NULL|          NULL|          NULL|                    NULL|                     NULL|           NULL|             NULL|                   NULL|          NULL|      NULL|          NULL|                  NULL|                     NULL|      NULL|                 NULL|                 NULL|        NULL|              NULL|                         NULL|                NULL|             NULL|                    NULL|        NULL|                 NULL|                  NULL|\n",
       "|11509835|    -0.2705|                       1|                       NULL|           NULL|           4.0|          4.0|                  NULL|                       1|                 4.0|         NULL|                       NULL|                         3067.0|                   3067|                   NULL|                   NULL|                   NULL|                  NULL|   6037|           NULL|             4|           NULL|              NULL|                       2|   33870089|  -118402768|              2708.0|      NULL|          NULL|           NULL|          NULL|          NULL|                     261|        6.0376210044006E7|          29712|             3101|                   NULL|         96109|       0.0|          NULL|                  NULL|                     NULL|         1|                 NULL|                 NULL|      1982.0|              NULL|                     880650.0|           2447951.0|             2015|               1567301.0|    27126.57|                 NULL|        60376210044006|            NULL|                    NULL|                       NULL|           NULL|          NULL|         NULL|                  NULL|                    NULL|                NULL|         NULL|                       NULL|                           NULL|                   NULL|                   NULL|                   NULL|                   NULL|                  NULL|   NULL|           NULL|          NULL|           NULL|              NULL|                    NULL|       NULL|        NULL|                NULL|      NULL|          NULL|           NULL|          NULL|          NULL|                    NULL|                     NULL|           NULL|             NULL|                   NULL|          NULL|      NULL|          NULL|                  NULL|                     NULL|      NULL|                 NULL|                 NULL|        NULL|              NULL|                         NULL|                NULL|             NULL|                    NULL|        NULL|                 NULL|                  NULL|\n",
       "|14432541|     -0.005|                    NULL|                       NULL|           NULL|           2.5|          4.0|                  NULL|                    NULL|                 2.5|         NULL|                       NULL|                         2283.0|                   2283|                   NULL|                   NULL|                   NULL|                  NULL|   6059|           NULL|             2|              2|               598|                    NULL|   33485643|  -117700234|              6000.0|         1|          NULL|           NULL|          NULL|             1|                     261|        6.0590423381006E7|          17686|             1286|                   NULL|         96961|       8.0|          NULL|                     1|                     NULL|      NULL|                 NULL|                 NULL|      1981.0|                 2|                     169574.0|            434551.0|             2015|                264977.0|     5488.96|                 NULL|        60590423381006|            NULL|                    NULL|                       NULL|           NULL|          NULL|         NULL|                  NULL|                    NULL|                NULL|         NULL|                       NULL|                           NULL|                   NULL|                   NULL|                   NULL|                   NULL|                  NULL|   NULL|           NULL|          NULL|           NULL|              NULL|                    NULL|       NULL|        NULL|                NULL|      NULL|          NULL|           NULL|          NULL|          NULL|                    NULL|                     NULL|           NULL|             NULL|                   NULL|          NULL|      NULL|          NULL|                  NULL|                     NULL|      NULL|                 NULL|                 NULL|        NULL|              NULL|                         NULL|                NULL|             NULL|                    NULL|        NULL|                 NULL|                  NULL|\n",
       "|17177301|     0.1638|                    NULL|                       NULL|           NULL|           2.5|          3.0|                  NULL|                    NULL|                 2.5|         NULL|                        853|                         1763.0|                   1763|                   NULL|                   NULL|                    853|                  NULL|   6111|              1|             2|              2|                 0|                    NULL|   34207204|  -119165589|                NULL|      NULL|          NULL|           NULL|          NULL|          NULL|                     266|        6.1110031002073E7|          13150|             2061|                   NULL|         97101|       6.0|          NULL|                     1|                     NULL|      NULL|                 NULL|                 NULL|      1994.0|                 2|                     107000.0|            306000.0|             2015|                199000.0|      3745.5|                 NULL|        61110031002073|            NULL|                    NULL|                       NULL|           NULL|          NULL|         NULL|                  NULL|                    NULL|                NULL|         NULL|                       NULL|                           NULL|                   NULL|                   NULL|                   NULL|                   NULL|                  NULL|   NULL|           NULL|          NULL|           NULL|              NULL|                    NULL|       NULL|        NULL|                NULL|      NULL|          NULL|           NULL|          NULL|          NULL|                    NULL|                     NULL|           NULL|             NULL|                   NULL|          NULL|      NULL|          NULL|                  NULL|                     NULL|      NULL|                 NULL|                 NULL|        NULL|              NULL|                         NULL|                NULL|             NULL|                    NULL|        NULL|                 NULL|                  NULL|\n",
       "|14739064|     -0.003|                    NULL|                       NULL|           NULL|           1.0|          2.0|                  NULL|                    NULL|                 1.0|         NULL|                       NULL|                          796.0|                    796|                   NULL|                   NULL|                   NULL|                  NULL|   6059|           NULL|             1|              1|                 0|                    NULL|   33549600|  -117678000|                NULL|      NULL|          NULL|           NULL|          NULL|          NULL|                     266|        6.0590423151019E7|          25459|             1286|                   NULL|         96987|       0.0|          NULL|                  NULL|                     NULL|      NULL|                 NULL|                 NULL|      1984.0|              NULL|                      66834.0|            210064.0|             2015|                143230.0|     2172.88|                 NULL|        60590423151018|            NULL|                    NULL|                       NULL|           NULL|          NULL|         NULL|                  NULL|                    NULL|                NULL|         NULL|                       NULL|                           NULL|                   NULL|                   NULL|                   NULL|                   NULL|                  NULL|   NULL|           NULL|          NULL|           NULL|              NULL|                    NULL|       NULL|        NULL|                NULL|      NULL|          NULL|           NULL|          NULL|          NULL|                    NULL|                     NULL|           NULL|             NULL|                   NULL|          NULL|      NULL|          NULL|                  NULL|                     NULL|      NULL|                 NULL|                 NULL|        NULL|              NULL|                         NULL|                NULL|             NULL|                    NULL|        NULL|                 NULL|                  NULL|\n",
       "+--------+-----------+------------------------+---------------------------+---------------+--------------+-------------+----------------------+------------------------+--------------------+-------------+---------------------------+-------------------------------+-----------------------+-----------------------+-----------------------+-----------------------+----------------------+-------+---------------+--------------+---------------+------------------+------------------------+-----------+------------+--------------------+----------+--------------+---------------+--------------+--------------+------------------------+-------------------------+---------------+-----------------+-----------------------+--------------+----------+--------------+----------------------+-------------------------+----------+---------------------+---------------------+------------+------------------+-----------------------------+--------------------+-----------------+------------------------+------------+---------------------+----------------------+----------------+------------------------+---------------------------+---------------+--------------+-------------+----------------------+------------------------+--------------------+-------------+---------------------------+-------------------------------+-----------------------+-----------------------+-----------------------+-----------------------+----------------------+-------+---------------+--------------+---------------+------------------+------------------------+-----------+------------+--------------------+----------+--------------+---------------+--------------+--------------+------------------------+-------------------------+---------------+-----------------+-----------------------+--------------+----------+--------------+----------------------+-------------------------+----------+---------------------+---------------------+------------+------------------+-----------------------------+--------------------+-----------------+------------------------+------------+---------------------+----------------------+"
      ]
     },
     "execution_count": 19,
     "metadata": {},
     "output_type": "execute_result"
    }
   ],
   "source": [
    "df.select(quantitative_vars).limit(10)"
   ]
  },
  {
   "cell_type": "code",
   "execution_count": 20,
   "id": "d9c103d7-f3b1-4a85-97c2-53afdbc17c6a",
   "metadata": {},
   "outputs": [
    {
     "data": {
      "text/html": [
       "<table border='1'>\n",
       "<tr><th>transactiondate_16</th><th>hashottuborspa_16</th><th>propertycountylandusecode_16</th><th>propertyzoningdesc_16</th><th>fireplaceflag_16</th><th>taxdelinquencyflag_16</th><th>transactiondate_17</th><th>hashottuborspa_17</th><th>propertycountylandusecode_17</th><th>propertyzoningdesc_17</th><th>fireplaceflag_17</th><th>taxdelinquencyflag_17</th></tr>\n",
       "<tr><td>2016-01-02</td><td>NULL</td><td>0100</td><td>CORH*</td><td>NULL</td><td>NULL</td><td>NULL</td><td>NULL</td><td>NULL</td><td>NULL</td><td>NULL</td><td>NULL</td></tr>\n",
       "<tr><td>2016-01-02</td><td>NULL</td><td>010C</td><td>LAR3</td><td>NULL</td><td>NULL</td><td>NULL</td><td>NULL</td><td>NULL</td><td>NULL</td><td>NULL</td><td>NULL</td></tr>\n",
       "<tr><td>2016-01-03</td><td>NULL</td><td>34</td><td>NULL</td><td>NULL</td><td>NULL</td><td>NULL</td><td>NULL</td><td>NULL</td><td>NULL</td><td>NULL</td><td>NULL</td></tr>\n",
       "<tr><td>2016-01-01</td><td>NULL</td><td>0100</td><td>PSR6</td><td>NULL</td><td>NULL</td><td>NULL</td><td>NULL</td><td>NULL</td><td>NULL</td><td>NULL</td><td>NULL</td></tr>\n",
       "<tr><td>2016-01-01</td><td>NULL</td><td>1</td><td>NULL</td><td>NULL</td><td>NULL</td><td>2017-08-04</td><td>NULL</td><td>1</td><td>NULL</td><td>NULL</td><td>NULL</td></tr>\n",
       "<tr><td>2016-01-01</td><td>NULL</td><td>0100</td><td>LARS</td><td>NULL</td><td>NULL</td><td>NULL</td><td>NULL</td><td>NULL</td><td>NULL</td><td>NULL</td><td>NULL</td></tr>\n",
       "<tr><td>2016-01-02</td><td>NULL</td><td>0100</td><td>HBR3YY</td><td>NULL</td><td>NULL</td><td>NULL</td><td>NULL</td><td>NULL</td><td>NULL</td><td>NULL</td><td>NULL</td></tr>\n",
       "<tr><td>2016-01-02</td><td>NULL</td><td>122</td><td>NULL</td><td>NULL</td><td>NULL</td><td>NULL</td><td>NULL</td><td>NULL</td><td>NULL</td><td>NULL</td><td>NULL</td></tr>\n",
       "<tr><td>2016-01-02</td><td>NULL</td><td>1129</td><td>NULL</td><td>NULL</td><td>NULL</td><td>NULL</td><td>NULL</td><td>NULL</td><td>NULL</td><td>NULL</td><td>NULL</td></tr>\n",
       "<tr><td>2016-01-02</td><td>NULL</td><td>34</td><td>NULL</td><td>NULL</td><td>NULL</td><td>NULL</td><td>NULL</td><td>NULL</td><td>NULL</td><td>NULL</td><td>NULL</td></tr>\n",
       "</table>\n"
      ],
      "text/plain": [
       "+------------------+-----------------+----------------------------+---------------------+----------------+---------------------+------------------+-----------------+----------------------------+---------------------+----------------+---------------------+\n",
       "|transactiondate_16|hashottuborspa_16|propertycountylandusecode_16|propertyzoningdesc_16|fireplaceflag_16|taxdelinquencyflag_16|transactiondate_17|hashottuborspa_17|propertycountylandusecode_17|propertyzoningdesc_17|fireplaceflag_17|taxdelinquencyflag_17|\n",
       "+------------------+-----------------+----------------------------+---------------------+----------------+---------------------+------------------+-----------------+----------------------------+---------------------+----------------+---------------------+\n",
       "|        2016-01-02|             NULL|                        0100|                CORH*|            NULL|                 NULL|              NULL|             NULL|                        NULL|                 NULL|            NULL|                 NULL|\n",
       "|        2016-01-02|             NULL|                        010C|                 LAR3|            NULL|                 NULL|              NULL|             NULL|                        NULL|                 NULL|            NULL|                 NULL|\n",
       "|        2016-01-03|             NULL|                          34|                 NULL|            NULL|                 NULL|              NULL|             NULL|                        NULL|                 NULL|            NULL|                 NULL|\n",
       "|        2016-01-01|             NULL|                        0100|                 PSR6|            NULL|                 NULL|              NULL|             NULL|                        NULL|                 NULL|            NULL|                 NULL|\n",
       "|        2016-01-01|             NULL|                           1|                 NULL|            NULL|                 NULL|        2017-08-04|             NULL|                           1|                 NULL|            NULL|                 NULL|\n",
       "|        2016-01-01|             NULL|                        0100|                 LARS|            NULL|                 NULL|              NULL|             NULL|                        NULL|                 NULL|            NULL|                 NULL|\n",
       "|        2016-01-02|             NULL|                        0100|               HBR3YY|            NULL|                 NULL|              NULL|             NULL|                        NULL|                 NULL|            NULL|                 NULL|\n",
       "|        2016-01-02|             NULL|                         122|                 NULL|            NULL|                 NULL|              NULL|             NULL|                        NULL|                 NULL|            NULL|                 NULL|\n",
       "|        2016-01-02|             NULL|                        1129|                 NULL|            NULL|                 NULL|              NULL|             NULL|                        NULL|                 NULL|            NULL|                 NULL|\n",
       "|        2016-01-02|             NULL|                          34|                 NULL|            NULL|                 NULL|              NULL|             NULL|                        NULL|                 NULL|            NULL|                 NULL|\n",
       "+------------------+-----------------+----------------------------+---------------------+----------------+---------------------+------------------+-----------------+----------------------------+---------------------+----------------+---------------------+"
      ]
     },
     "execution_count": 20,
     "metadata": {},
     "output_type": "execute_result"
    }
   ],
   "source": [
    "df.select(Qualitative_vars).limit(10)"
   ]
  },
  {
   "cell_type": "code",
   "execution_count": 21,
   "id": "f64203bf-de57-4bc0-a139-b41e61545811",
   "metadata": {},
   "outputs": [],
   "source": [
    "df.select(quantitative_vars).describe().limit(10)"
   ]
  },
  {
   "cell_type": "code",
   "execution_count": 22,
   "id": "036a149a-7671-4b63-beea-8e2cfde7018e",
   "metadata": {},
   "outputs": [
    {
     "data": {
      "text/html": [
       "<table border='1'>\n",
       "<tr><th>summary</th><th>propertycountylandusecode_16</th><th>propertyzoningdesc_16</th><th>taxdelinquencyflag_16</th><th>propertycountylandusecode_17</th><th>propertyzoningdesc_17</th><th>taxdelinquencyflag_17</th></tr>\n",
       "<tr><td>count</td><td>90276</td><td>58314</td><td>1783</td><td>2359</td><td>1618</td><td>132</td></tr>\n",
       "<tr><td>mean</td><td>197.03031493485236</td><td>NULL</td><td>NULL</td><td>174.68393030009682</td><td>NULL</td><td>NULL</td></tr>\n",
       "<tr><td>stddev</td><td>304.6516248942232</td><td>NULL</td><td>NULL</td><td>266.9103545007249</td><td>NULL</td><td>NULL</td></tr>\n",
       "<tr><td>min</td><td>0</td><td>1NR1*</td><td>Y</td><td>0100</td><td>AHR17000*</td><td>Y</td></tr>\n",
       "<tr><td>max</td><td>96</td><td>WVRR1-RPD1</td><td>Y</td><td>96</td><td>WVRPD18U*</td><td>Y</td></tr>\n",
       "</table>\n"
      ],
      "text/plain": [
       "+-------+----------------------------+---------------------+---------------------+----------------------------+---------------------+---------------------+\n",
       "|summary|propertycountylandusecode_16|propertyzoningdesc_16|taxdelinquencyflag_16|propertycountylandusecode_17|propertyzoningdesc_17|taxdelinquencyflag_17|\n",
       "+-------+----------------------------+---------------------+---------------------+----------------------------+---------------------+---------------------+\n",
       "|  count|                       90276|                58314|                 1783|                        2359|                 1618|                  132|\n",
       "|   mean|          197.03031493485236|                 NULL|                 NULL|          174.68393030009682|                 NULL|                 NULL|\n",
       "| stddev|           304.6516248942232|                 NULL|                 NULL|           266.9103545007249|                 NULL|                 NULL|\n",
       "|    min|                           0|                1NR1*|                    Y|                        0100|            AHR17000*|                    Y|\n",
       "|    max|                          96|           WVRR1-RPD1|                    Y|                          96|            WVRPD18U*|                    Y|\n",
       "+-------+----------------------------+---------------------+---------------------+----------------------------+---------------------+---------------------+"
      ]
     },
     "execution_count": 22,
     "metadata": {},
     "output_type": "execute_result"
    }
   ],
   "source": [
    "df.select(Qualitative_vars).describe().limit(10)"
   ]
  },
  {
   "cell_type": "code",
   "execution_count": 23,
   "id": "5e2244a5-0acb-4f9e-9014-89ef56f16e7a",
   "metadata": {},
   "outputs": [
    {
     "name": "stdout",
     "output_type": "stream",
     "text": [
      "parcelid: 0\n",
      "logerror_16: 0\n",
      "airconditioningtypeid_16: 61495\n",
      "architecturalstyletypeid_16: 90016\n",
      "basementsqft_16: 90234\n",
      "bathroomcnt_16: 0\n",
      "bedroomcnt_16: 0\n",
      "buildingclasstypeid_16: 90261\n",
      "buildingqualitytypeid_16: 32912\n",
      "calculatedbathnbr_16: 1182\n",
      "decktypeid_16: 89619\n",
      "finishedfloor1squarefeet_16: 83421\n",
      "calculatedfinishedsquarefeet_16: 661\n",
      "finishedsquarefeet12_16: 4679\n",
      "finishedsquarefeet13_16: 90244\n",
      "finishedsquarefeet15_16: 86713\n",
      "finishedsquarefeet50_16: 83421\n",
      "finishedsquarefeet6_16: 89856\n",
      "fips_16: 0\n",
      "fireplacecnt_16: 80670\n",
      "fullbathcnt_16: 1182\n",
      "garagecarcnt_16: 60339\n",
      "garagetotalsqft_16: 60339\n",
      "heatingorsystemtypeid_16: 34196\n",
      "latitude_16: 0\n",
      "longitude_16: 0\n",
      "lotsizesquarefeet_16: 10150\n",
      "poolcnt_16: 72376\n",
      "poolsizesum_16: 89308\n",
      "pooltypeid10_16: 89116\n",
      "pooltypeid2_16: 89073\n",
      "pooltypeid7_16: 73580\n",
      "propertylandusetypeid_16: 0\n",
      "rawcensustractandblock_16: 0\n",
      "regionidcity_16: 1803\n",
      "regionidcounty_16: 0\n",
      "regionidneighborhood_16: 54265\n",
      "regionidzip_16: 35\n",
      "roomcnt_16: 0\n",
      "storytypeid_16: 90234\n",
      "threequarterbathnbr_16: 78268\n",
      "typeconstructiontypeid_16: 89978\n",
      "unitcnt_16: 31923\n",
      "yardbuildingsqft17_16: 87631\n",
      "yardbuildingsqft26_16: 90182\n",
      "yearbuilt_16: 756\n",
      "numberofstories_16: 69706\n",
      "structuretaxvaluedollarcnt_16: 380\n",
      "taxvaluedollarcnt_16: 1\n",
      "assessmentyear_16: 0\n",
      "landtaxvaluedollarcnt_16: 1\n",
      "taxamount_16: 6\n",
      "taxdelinquencyyear_16: 88494\n",
      "censustractandblock_16: 605\n",
      "logerror_17: 87918\n",
      "airconditioningtypeid_17: 89630\n",
      "architecturalstyletypeid_17: 90270\n",
      "basementsqft_17: 90276\n",
      "bathroomcnt_17: 87918\n",
      "bedroomcnt_17: 87918\n",
      "buildingclasstypeid_17: 90276\n",
      "buildingqualitytypeid_17: 88685\n",
      "calculatedbathnbr_17: 87940\n",
      "decktypeid_17: 90267\n",
      "finishedfloor1squarefeet_17: 90134\n",
      "calculatedfinishedsquarefeet_17: 87930\n",
      "finishedsquarefeet12_17: 88050\n",
      "finishedsquarefeet13_17: 90276\n",
      "finishedsquarefeet15_17: 90169\n",
      "finishedsquarefeet50_17: 90134\n",
      "finishedsquarefeet6_17: 90266\n",
      "fips_17: 87918\n",
      "fireplacecnt_17: 90079\n",
      "fullbathcnt_17: 87940\n",
      "garagecarcnt_17: 89591\n",
      "garagetotalsqft_17: 89591\n",
      "heatingorsystemtypeid_17: 88698\n",
      "latitude_17: 87918\n",
      "longitude_17: 87918\n",
      "lotsizesquarefeet_17: 88173\n",
      "poolcnt_17: 89854\n",
      "poolsizesum_17: 90255\n",
      "pooltypeid10_17: 90271\n",
      "pooltypeid2_17: 90248\n",
      "pooltypeid7_17: 89886\n",
      "propertylandusetypeid_17: 87918\n",
      "rawcensustractandblock_17: 87918\n",
      "regionidcity_17: 87954\n",
      "regionidcounty_17: 87918\n",
      "regionidneighborhood_17: 89258\n",
      "regionidzip_17: 87920\n",
      "roomcnt_17: 87918\n",
      "storytypeid_17: 90276\n",
      "threequarterbathnbr_17: 90052\n",
      "typeconstructiontypeid_17: 90269\n",
      "unitcnt_17: 88655\n",
      "yardbuildingsqft17_17: 90225\n",
      "yardbuildingsqft26_17: 90274\n",
      "yearbuilt_17: 87933\n",
      "numberofstories_17: 89782\n",
      "structuretaxvaluedollarcnt_17: 87922\n",
      "taxvaluedollarcnt_17: 87919\n",
      "assessmentyear_17: 87918\n",
      "landtaxvaluedollarcnt_17: 87919\n",
      "taxamount_17: 87918\n",
      "taxdelinquencyyear_17: 90145\n",
      "censustractandblock_17: 87929\n"
     ]
    }
   ],
   "source": [
    "for col in quantitative_vars:\n",
    "    print(f\"{col}: {df.filter(df[col].isNull()).count()}\")"
   ]
  },
  {
   "cell_type": "code",
   "execution_count": 24,
   "id": "3497f7b7-8b77-4b7f-bd5b-a2251062e63c",
   "metadata": {},
   "outputs": [
    {
     "name": "stdout",
     "output_type": "stream",
     "text": [
      "transactiondate_16: 0\n",
      "hashottuborspa_16: 87912\n",
      "propertycountylandusecode_16: 1\n",
      "propertyzoningdesc_16: 31963\n",
      "fireplaceflag_16: 90055\n",
      "taxdelinquencyflag_16: 88494\n",
      "transactiondate_17: 87918\n",
      "hashottuborspa_17: 90242\n",
      "propertycountylandusecode_17: 87918\n",
      "propertyzoningdesc_17: 88659\n",
      "fireplaceflag_17: 90270\n",
      "taxdelinquencyflag_17: 90145\n"
     ]
    }
   ],
   "source": [
    "for col in Qualitative_vars:\n",
    "    print(f\"{col}: {df.filter(df[col].isNull()).count()}\")"
   ]
  },
  {
   "cell_type": "code",
   "execution_count": 12,
   "id": "eabaefee-0562-45d9-b621-9de6aa17ae50",
   "metadata": {},
   "outputs": [],
   "source": [
    "# Drop columns that are more than 50% missing\n",
    "def column_dropper(df, threshold):\n",
    "    total_records = df.count()\n",
    "    for col in df.columns:\n",
    "        missing = df.filter(df[col].isNull()).count()\n",
    "        missing_percent = missing / total_records\n",
    "        if missing_percent > threshold:\n",
    "            df = df.drop(col)\n",
    "    return df\n",
    "\n",
    "df = column_dropper(df, 0.5)"
   ]
  },
  {
   "cell_type": "code",
   "execution_count": 14,
   "id": "763dd3f3-fb28-41bd-b252-f3484f9f85db",
   "metadata": {},
   "outputs": [],
   "source": [
    "# fillna for quantitative_variables\n",
    "for column in df.columns:\n",
    "    if column in quantitative_vars:\n",
    "        df = df.fillna({column: df.select(avg(column)).collect()[0][0]})"
   ]
  },
  {
   "cell_type": "code",
   "execution_count": 16,
   "id": "d81602e4-a627-42f0-878e-eecba6cb385c",
   "metadata": {},
   "outputs": [
    {
     "ename": "AssertionError",
     "evalue": "Undefined error message parameter for error class: CANNOT_PARSE_DATATYPE. Parameters: {'error': '[WinError 10061] No connection could be made because the target machine actively refused it'}",
     "output_type": "error",
     "traceback": [
      "\u001b[1;31m---------------------------------------------------------------------------\u001b[0m",
      "\u001b[1;31mConnectionRefusedError\u001b[0m                    Traceback (most recent call last)",
      "File \u001b[1;32m~\\AppData\\Local\\Programs\\Python\\Python311\\Lib\\site-packages\\pyspark\\sql\\dataframe.py:572\u001b[0m, in \u001b[0;36mDataFrame.schema\u001b[1;34m(self)\u001b[0m\n\u001b[0;32m    570\u001b[0m \u001b[38;5;28;01mtry\u001b[39;00m:\n\u001b[0;32m    571\u001b[0m     \u001b[38;5;28mself\u001b[39m\u001b[38;5;241m.\u001b[39m_schema \u001b[38;5;241m=\u001b[39m cast(\n\u001b[1;32m--> 572\u001b[0m         StructType, _parse_datatype_json_string(\u001b[38;5;28;43mself\u001b[39;49m\u001b[38;5;241;43m.\u001b[39;49m\u001b[43m_jdf\u001b[49m\u001b[38;5;241;43m.\u001b[39;49m\u001b[43mschema\u001b[49m\u001b[43m(\u001b[49m\u001b[43m)\u001b[49m\u001b[38;5;241m.\u001b[39mjson())\n\u001b[0;32m    573\u001b[0m     )\n\u001b[0;32m    574\u001b[0m \u001b[38;5;28;01mexcept\u001b[39;00m \u001b[38;5;167;01mException\u001b[39;00m \u001b[38;5;28;01mas\u001b[39;00m e:\n",
      "File \u001b[1;32m~\\AppData\\Local\\Programs\\Python\\Python311\\Lib\\site-packages\\py4j\\java_gateway.py:1321\u001b[0m, in \u001b[0;36mJavaMember.__call__\u001b[1;34m(self, *args)\u001b[0m\n\u001b[0;32m   1316\u001b[0m command \u001b[38;5;241m=\u001b[39m proto\u001b[38;5;241m.\u001b[39mCALL_COMMAND_NAME \u001b[38;5;241m+\u001b[39m\\\n\u001b[0;32m   1317\u001b[0m     \u001b[38;5;28mself\u001b[39m\u001b[38;5;241m.\u001b[39mcommand_header \u001b[38;5;241m+\u001b[39m\\\n\u001b[0;32m   1318\u001b[0m     args_command \u001b[38;5;241m+\u001b[39m\\\n\u001b[0;32m   1319\u001b[0m     proto\u001b[38;5;241m.\u001b[39mEND_COMMAND_PART\n\u001b[1;32m-> 1321\u001b[0m answer \u001b[38;5;241m=\u001b[39m \u001b[38;5;28;43mself\u001b[39;49m\u001b[38;5;241;43m.\u001b[39;49m\u001b[43mgateway_client\u001b[49m\u001b[38;5;241;43m.\u001b[39;49m\u001b[43msend_command\u001b[49m\u001b[43m(\u001b[49m\u001b[43mcommand\u001b[49m\u001b[43m)\u001b[49m\n\u001b[0;32m   1322\u001b[0m return_value \u001b[38;5;241m=\u001b[39m get_return_value(\n\u001b[0;32m   1323\u001b[0m     answer, \u001b[38;5;28mself\u001b[39m\u001b[38;5;241m.\u001b[39mgateway_client, \u001b[38;5;28mself\u001b[39m\u001b[38;5;241m.\u001b[39mtarget_id, \u001b[38;5;28mself\u001b[39m\u001b[38;5;241m.\u001b[39mname)\n",
      "File \u001b[1;32m~\\AppData\\Local\\Programs\\Python\\Python311\\Lib\\site-packages\\py4j\\java_gateway.py:1036\u001b[0m, in \u001b[0;36mGatewayClient.send_command\u001b[1;34m(self, command, retry, binary)\u001b[0m\n\u001b[0;32m   1016\u001b[0m \u001b[38;5;250m\u001b[39m\u001b[38;5;124;03m\"\"\"Sends a command to the JVM. This method is not intended to be\u001b[39;00m\n\u001b[0;32m   1017\u001b[0m \u001b[38;5;124;03m   called directly by Py4J users. It is usually called by\u001b[39;00m\n\u001b[0;32m   1018\u001b[0m \u001b[38;5;124;03m   :class:`JavaMember` instances.\u001b[39;00m\n\u001b[1;32m   (...)\u001b[0m\n\u001b[0;32m   1034\u001b[0m \u001b[38;5;124;03m if `binary` is `True`.\u001b[39;00m\n\u001b[0;32m   1035\u001b[0m \u001b[38;5;124;03m\"\"\"\u001b[39;00m\n\u001b[1;32m-> 1036\u001b[0m connection \u001b[38;5;241m=\u001b[39m \u001b[38;5;28;43mself\u001b[39;49m\u001b[38;5;241;43m.\u001b[39;49m\u001b[43m_get_connection\u001b[49m\u001b[43m(\u001b[49m\u001b[43m)\u001b[49m\n\u001b[0;32m   1037\u001b[0m \u001b[38;5;28;01mtry\u001b[39;00m:\n",
      "File \u001b[1;32m~\\AppData\\Local\\Programs\\Python\\Python311\\Lib\\site-packages\\py4j\\clientserver.py:284\u001b[0m, in \u001b[0;36mJavaClient._get_connection\u001b[1;34m(self)\u001b[0m\n\u001b[0;32m    283\u001b[0m \u001b[38;5;28;01mif\u001b[39;00m connection \u001b[38;5;129;01mis\u001b[39;00m \u001b[38;5;28;01mNone\u001b[39;00m \u001b[38;5;129;01mor\u001b[39;00m connection\u001b[38;5;241m.\u001b[39msocket \u001b[38;5;129;01mis\u001b[39;00m \u001b[38;5;28;01mNone\u001b[39;00m:\n\u001b[1;32m--> 284\u001b[0m     connection \u001b[38;5;241m=\u001b[39m \u001b[38;5;28;43mself\u001b[39;49m\u001b[38;5;241;43m.\u001b[39;49m\u001b[43m_create_new_connection\u001b[49m\u001b[43m(\u001b[49m\u001b[43m)\u001b[49m\n\u001b[0;32m    285\u001b[0m \u001b[38;5;28;01mreturn\u001b[39;00m connection\n",
      "File \u001b[1;32m~\\AppData\\Local\\Programs\\Python\\Python311\\Lib\\site-packages\\py4j\\clientserver.py:291\u001b[0m, in \u001b[0;36mJavaClient._create_new_connection\u001b[1;34m(self)\u001b[0m\n\u001b[0;32m    288\u001b[0m connection \u001b[38;5;241m=\u001b[39m ClientServerConnection(\n\u001b[0;32m    289\u001b[0m     \u001b[38;5;28mself\u001b[39m\u001b[38;5;241m.\u001b[39mjava_parameters, \u001b[38;5;28mself\u001b[39m\u001b[38;5;241m.\u001b[39mpython_parameters,\n\u001b[0;32m    290\u001b[0m     \u001b[38;5;28mself\u001b[39m\u001b[38;5;241m.\u001b[39mgateway_property, \u001b[38;5;28mself\u001b[39m)\n\u001b[1;32m--> 291\u001b[0m \u001b[43mconnection\u001b[49m\u001b[38;5;241;43m.\u001b[39;49m\u001b[43mconnect_to_java_server\u001b[49m\u001b[43m(\u001b[49m\u001b[43m)\u001b[49m\n\u001b[0;32m    292\u001b[0m \u001b[38;5;28mself\u001b[39m\u001b[38;5;241m.\u001b[39mset_thread_connection(connection)\n",
      "File \u001b[1;32m~\\AppData\\Local\\Programs\\Python\\Python311\\Lib\\site-packages\\py4j\\clientserver.py:438\u001b[0m, in \u001b[0;36mClientServerConnection.connect_to_java_server\u001b[1;34m(self)\u001b[0m\n\u001b[0;32m    436\u001b[0m     \u001b[38;5;28mself\u001b[39m\u001b[38;5;241m.\u001b[39msocket \u001b[38;5;241m=\u001b[39m \u001b[38;5;28mself\u001b[39m\u001b[38;5;241m.\u001b[39mssl_context\u001b[38;5;241m.\u001b[39mwrap_socket(\n\u001b[0;32m    437\u001b[0m         \u001b[38;5;28mself\u001b[39m\u001b[38;5;241m.\u001b[39msocket, server_hostname\u001b[38;5;241m=\u001b[39m\u001b[38;5;28mself\u001b[39m\u001b[38;5;241m.\u001b[39mjava_address)\n\u001b[1;32m--> 438\u001b[0m \u001b[38;5;28mself\u001b[39m\u001b[38;5;241m.\u001b[39msocket\u001b[38;5;241m.\u001b[39mconnect((\u001b[38;5;28mself\u001b[39m\u001b[38;5;241m.\u001b[39mjava_address, \u001b[38;5;28mself\u001b[39m\u001b[38;5;241m.\u001b[39mjava_port))\n\u001b[0;32m    439\u001b[0m \u001b[38;5;28mself\u001b[39m\u001b[38;5;241m.\u001b[39mstream \u001b[38;5;241m=\u001b[39m \u001b[38;5;28mself\u001b[39m\u001b[38;5;241m.\u001b[39msocket\u001b[38;5;241m.\u001b[39mmakefile(\u001b[38;5;124m\"\u001b[39m\u001b[38;5;124mrb\u001b[39m\u001b[38;5;124m\"\u001b[39m)\n",
      "\u001b[1;31mConnectionRefusedError\u001b[0m: [WinError 10061] No connection could be made because the target machine actively refused it",
      "\nDuring handling of the above exception, another exception occurred:\n",
      "\u001b[1;31mAssertionError\u001b[0m                            Traceback (most recent call last)",
      "Cell \u001b[1;32mIn[16], line 2\u001b[0m\n\u001b[0;32m      1\u001b[0m \u001b[38;5;66;03m# fillna for Qualitative_variables\u001b[39;00m\n\u001b[1;32m----> 2\u001b[0m \u001b[38;5;28;01mfor\u001b[39;00m column \u001b[38;5;129;01min\u001b[39;00m \u001b[43mdf\u001b[49m\u001b[38;5;241;43m.\u001b[39;49m\u001b[43mcolumns\u001b[49m:\n\u001b[0;32m      3\u001b[0m     \u001b[38;5;28;01mif\u001b[39;00m column \u001b[38;5;129;01min\u001b[39;00m Qualitative_vars:\n\u001b[0;32m      4\u001b[0m         \u001b[38;5;28;01mif\u001b[39;00m column \u001b[38;5;241m==\u001b[39m \u001b[38;5;124m\"\u001b[39m\u001b[38;5;124mtransactiondate_16\u001b[39m\u001b[38;5;124m\"\u001b[39m:\n",
      "File \u001b[1;32m~\\AppData\\Local\\Programs\\Python\\Python311\\Lib\\site-packages\\pyspark\\sql\\dataframe.py:2193\u001b[0m, in \u001b[0;36mDataFrame.columns\u001b[1;34m(self)\u001b[0m\n\u001b[0;32m   2118\u001b[0m \u001b[38;5;129m@property\u001b[39m\n\u001b[0;32m   2119\u001b[0m \u001b[38;5;28;01mdef\u001b[39;00m \u001b[38;5;21mcolumns\u001b[39m(\u001b[38;5;28mself\u001b[39m) \u001b[38;5;241m-\u001b[39m\u001b[38;5;241m>\u001b[39m List[\u001b[38;5;28mstr\u001b[39m]:\n\u001b[0;32m   2120\u001b[0m \u001b[38;5;250m    \u001b[39m\u001b[38;5;124;03m\"\"\"\u001b[39;00m\n\u001b[0;32m   2121\u001b[0m \u001b[38;5;124;03m    Retrieves the names of all columns in the :class:`DataFrame` as a list.\u001b[39;00m\n\u001b[0;32m   2122\u001b[0m \n\u001b[1;32m   (...)\u001b[0m\n\u001b[0;32m   2191\u001b[0m \u001b[38;5;124;03m    False\u001b[39;00m\n\u001b[0;32m   2192\u001b[0m \u001b[38;5;124;03m    \"\"\"\u001b[39;00m\n\u001b[1;32m-> 2193\u001b[0m     \u001b[38;5;28;01mreturn\u001b[39;00m [f\u001b[38;5;241m.\u001b[39mname \u001b[38;5;28;01mfor\u001b[39;00m f \u001b[38;5;129;01min\u001b[39;00m \u001b[38;5;28;43mself\u001b[39;49m\u001b[38;5;241;43m.\u001b[39;49m\u001b[43mschema\u001b[49m\u001b[38;5;241m.\u001b[39mfields]\n",
      "File \u001b[1;32m~\\AppData\\Local\\Programs\\Python\\Python311\\Lib\\site-packages\\pyspark\\sql\\dataframe.py:575\u001b[0m, in \u001b[0;36mDataFrame.schema\u001b[1;34m(self)\u001b[0m\n\u001b[0;32m    571\u001b[0m         \u001b[38;5;28mself\u001b[39m\u001b[38;5;241m.\u001b[39m_schema \u001b[38;5;241m=\u001b[39m cast(\n\u001b[0;32m    572\u001b[0m             StructType, _parse_datatype_json_string(\u001b[38;5;28mself\u001b[39m\u001b[38;5;241m.\u001b[39m_jdf\u001b[38;5;241m.\u001b[39mschema()\u001b[38;5;241m.\u001b[39mjson())\n\u001b[0;32m    573\u001b[0m         )\n\u001b[0;32m    574\u001b[0m     \u001b[38;5;28;01mexcept\u001b[39;00m \u001b[38;5;167;01mException\u001b[39;00m \u001b[38;5;28;01mas\u001b[39;00m e:\n\u001b[1;32m--> 575\u001b[0m         \u001b[38;5;28;01mraise\u001b[39;00m \u001b[43mPySparkValueError\u001b[49m\u001b[43m(\u001b[49m\n\u001b[0;32m    576\u001b[0m \u001b[43m            \u001b[49m\u001b[43merror_class\u001b[49m\u001b[38;5;241;43m=\u001b[39;49m\u001b[38;5;124;43m\"\u001b[39;49m\u001b[38;5;124;43mCANNOT_PARSE_DATATYPE\u001b[39;49m\u001b[38;5;124;43m\"\u001b[39;49m\u001b[43m,\u001b[49m\n\u001b[0;32m    577\u001b[0m \u001b[43m            \u001b[49m\u001b[43mmessage_parameters\u001b[49m\u001b[38;5;241;43m=\u001b[39;49m\u001b[43m{\u001b[49m\u001b[38;5;124;43m\"\u001b[39;49m\u001b[38;5;124;43merror\u001b[39;49m\u001b[38;5;124;43m\"\u001b[39;49m\u001b[43m:\u001b[49m\u001b[43m \u001b[49m\u001b[38;5;28;43mstr\u001b[39;49m\u001b[43m(\u001b[49m\u001b[43me\u001b[49m\u001b[43m)\u001b[49m\u001b[43m}\u001b[49m\u001b[43m,\u001b[49m\n\u001b[0;32m    578\u001b[0m \u001b[43m        \u001b[49m\u001b[43m)\u001b[49m\n\u001b[0;32m    579\u001b[0m \u001b[38;5;28;01mreturn\u001b[39;00m \u001b[38;5;28mself\u001b[39m\u001b[38;5;241m.\u001b[39m_schema\n",
      "File \u001b[1;32m~\\AppData\\Local\\Programs\\Python\\Python311\\Lib\\site-packages\\pyspark\\errors\\exceptions\\base.py:42\u001b[0m, in \u001b[0;36mPySparkException.__init__\u001b[1;34m(self, message, error_class, message_parameters)\u001b[0m\n\u001b[0;32m     39\u001b[0m \u001b[38;5;28mself\u001b[39m\u001b[38;5;241m.\u001b[39merror_reader \u001b[38;5;241m=\u001b[39m ErrorClassesReader()\n\u001b[0;32m     41\u001b[0m \u001b[38;5;28;01mif\u001b[39;00m message \u001b[38;5;129;01mis\u001b[39;00m \u001b[38;5;28;01mNone\u001b[39;00m:\n\u001b[1;32m---> 42\u001b[0m     \u001b[38;5;28mself\u001b[39m\u001b[38;5;241m.\u001b[39mmessage \u001b[38;5;241m=\u001b[39m \u001b[38;5;28;43mself\u001b[39;49m\u001b[38;5;241;43m.\u001b[39;49m\u001b[43merror_reader\u001b[49m\u001b[38;5;241;43m.\u001b[39;49m\u001b[43mget_error_message\u001b[49m\u001b[43m(\u001b[49m\n\u001b[0;32m     43\u001b[0m \u001b[43m        \u001b[49m\u001b[43mcast\u001b[49m\u001b[43m(\u001b[49m\u001b[38;5;28;43mstr\u001b[39;49m\u001b[43m,\u001b[49m\u001b[43m \u001b[49m\u001b[43merror_class\u001b[49m\u001b[43m)\u001b[49m\u001b[43m,\u001b[49m\u001b[43m \u001b[49m\u001b[43mcast\u001b[49m\u001b[43m(\u001b[49m\u001b[43mDict\u001b[49m\u001b[43m[\u001b[49m\u001b[38;5;28;43mstr\u001b[39;49m\u001b[43m,\u001b[49m\u001b[43m \u001b[49m\u001b[38;5;28;43mstr\u001b[39;49m\u001b[43m]\u001b[49m\u001b[43m,\u001b[49m\u001b[43m \u001b[49m\u001b[43mmessage_parameters\u001b[49m\u001b[43m)\u001b[49m\n\u001b[0;32m     44\u001b[0m \u001b[43m    \u001b[49m\u001b[43m)\u001b[49m\n\u001b[0;32m     45\u001b[0m \u001b[38;5;28;01melse\u001b[39;00m:\n\u001b[0;32m     46\u001b[0m     \u001b[38;5;28mself\u001b[39m\u001b[38;5;241m.\u001b[39mmessage \u001b[38;5;241m=\u001b[39m message\n",
      "File \u001b[1;32m~\\AppData\\Local\\Programs\\Python\\Python311\\Lib\\site-packages\\pyspark\\errors\\utils.py:39\u001b[0m, in \u001b[0;36mErrorClassesReader.get_error_message\u001b[1;34m(self, error_class, message_parameters)\u001b[0m\n\u001b[0;32m     37\u001b[0m \u001b[38;5;66;03m# Verify message parameters.\u001b[39;00m\n\u001b[0;32m     38\u001b[0m message_parameters_from_template \u001b[38;5;241m=\u001b[39m re\u001b[38;5;241m.\u001b[39mfindall(\u001b[38;5;124m\"\u001b[39m\u001b[38;5;124m<([a-zA-Z0-9_-]+)>\u001b[39m\u001b[38;5;124m\"\u001b[39m, message_template)\n\u001b[1;32m---> 39\u001b[0m \u001b[38;5;28;01massert\u001b[39;00m \u001b[38;5;28mset\u001b[39m(message_parameters_from_template) \u001b[38;5;241m==\u001b[39m \u001b[38;5;28mset\u001b[39m(message_parameters), (\n\u001b[0;32m     40\u001b[0m     \u001b[38;5;124mf\u001b[39m\u001b[38;5;124m\"\u001b[39m\u001b[38;5;124mUndefined error message parameter for error class: \u001b[39m\u001b[38;5;132;01m{\u001b[39;00merror_class\u001b[38;5;132;01m}\u001b[39;00m\u001b[38;5;124m. \u001b[39m\u001b[38;5;124m\"\u001b[39m\n\u001b[0;32m     41\u001b[0m     \u001b[38;5;124mf\u001b[39m\u001b[38;5;124m\"\u001b[39m\u001b[38;5;124mParameters: \u001b[39m\u001b[38;5;132;01m{\u001b[39;00mmessage_parameters\u001b[38;5;132;01m}\u001b[39;00m\u001b[38;5;124m\"\u001b[39m\n\u001b[0;32m     42\u001b[0m )\n\u001b[0;32m     43\u001b[0m table \u001b[38;5;241m=\u001b[39m \u001b[38;5;28mstr\u001b[39m\u001b[38;5;241m.\u001b[39mmaketrans(\u001b[38;5;124m\"\u001b[39m\u001b[38;5;124m<>\u001b[39m\u001b[38;5;124m\"\u001b[39m, \u001b[38;5;124m\"\u001b[39m\u001b[38;5;132;01m{}\u001b[39;00m\u001b[38;5;124m\"\u001b[39m)\n\u001b[0;32m     45\u001b[0m \u001b[38;5;28;01mreturn\u001b[39;00m message_template\u001b[38;5;241m.\u001b[39mtranslate(table)\u001b[38;5;241m.\u001b[39mformat(\u001b[38;5;241m*\u001b[39m\u001b[38;5;241m*\u001b[39mmessage_parameters)\n",
      "\u001b[1;31mAssertionError\u001b[0m: Undefined error message parameter for error class: CANNOT_PARSE_DATATYPE. Parameters: {'error': '[WinError 10061] No connection could be made because the target machine actively refused it'}"
     ]
    }
   ],
   "source": [
    "# fillna for Qualitative_variables\n",
    "for column in df.columns:\n",
    "    if column in Qualitative_vars:\n",
    "        if column == \"transactiondate_16\":\n",
    "            df = df.withColumn(\"transactiondate_16\", col(\"transactiondate_16\").cast(\"string\"))\n",
    "            avg_value = df.select(mode(column)).collect()[0][0]\n",
    "            df.na.fill({column: avg_value})\n",
    "            df = df.withColumn(\"transactiondate_16\", col(\"transactiondate_16\").cast(\"date\"))\n",
    "        else:\n",
    "            avg_value = df.select(mode(column)).collect()[0][0]\n",
    "            df.na.fill({column: avg_value})"
   ]
  },
  {
   "cell_type": "code",
   "execution_count": 14,
   "id": "49bfcd78-ce6f-4827-9898-6dfe5f625eeb",
   "metadata": {},
   "outputs": [
    {
     "name": "stdout",
     "output_type": "stream",
     "text": [
      "parcelid: 0\n",
      "logerror_16: 0\n",
      "transactiondate_16: 0\n",
      "bathroomcnt_16: 0\n",
      "bedroomcnt_16: 0\n",
      "buildingqualitytypeid_16: 32912\n",
      "calculatedbathnbr_16: 1182\n",
      "calculatedfinishedsquarefeet_16: 661\n",
      "finishedsquarefeet12_16: 4679\n",
      "fips_16: 0\n"
     ]
    },
    {
     "name": "stderr",
     "output_type": "stream",
     "text": [
      "ERROR:root:KeyboardInterrupt while sending command.\n",
      "Traceback (most recent call last):\n",
      "  File \"C:\\Users\\MSI Modern 14\\AppData\\Local\\Programs\\Python\\Python311\\Lib\\site-packages\\py4j\\java_gateway.py\", line 1038, in send_command\n",
      "    response = connection.send_command(command)\n",
      "               ^^^^^^^^^^^^^^^^^^^^^^^^^^^^^^^^\n",
      "  File \"C:\\Users\\MSI Modern 14\\AppData\\Local\\Programs\\Python\\Python311\\Lib\\site-packages\\py4j\\clientserver.py\", line 511, in send_command\n",
      "    answer = smart_decode(self.stream.readline()[:-1])\n",
      "                          ^^^^^^^^^^^^^^^^^^^^^^\n",
      "  File \"C:\\Users\\MSI Modern 14\\AppData\\Local\\Programs\\Python\\Python311\\Lib\\socket.py\", line 706, in readinto\n",
      "    return self._sock.recv_into(b)\n",
      "           ^^^^^^^^^^^^^^^^^^^^^^^\n",
      "KeyboardInterrupt\n"
     ]
    },
    {
     "ename": "KeyboardInterrupt",
     "evalue": "",
     "output_type": "error",
     "traceback": [
      "\u001b[1;31m---------------------------------------------------------------------------\u001b[0m",
      "\u001b[1;31mKeyboardInterrupt\u001b[0m                         Traceback (most recent call last)",
      "Cell \u001b[1;32mIn[14], line 2\u001b[0m\n\u001b[0;32m      1\u001b[0m \u001b[38;5;28;01mfor\u001b[39;00m col \u001b[38;5;129;01min\u001b[39;00m df\u001b[38;5;241m.\u001b[39mcolumns:\n\u001b[1;32m----> 2\u001b[0m     \u001b[38;5;28mprint\u001b[39m(\u001b[38;5;124mf\u001b[39m\u001b[38;5;124m\"\u001b[39m\u001b[38;5;132;01m{\u001b[39;00mcol\u001b[38;5;132;01m}\u001b[39;00m\u001b[38;5;124m: \u001b[39m\u001b[38;5;132;01m{\u001b[39;00m\u001b[43mdf\u001b[49m\u001b[38;5;241;43m.\u001b[39;49m\u001b[43mfilter\u001b[49m\u001b[43m(\u001b[49m\u001b[43mdf\u001b[49m\u001b[43m[\u001b[49m\u001b[43mcol\u001b[49m\u001b[43m]\u001b[49m\u001b[38;5;241;43m.\u001b[39;49m\u001b[43misNull\u001b[49m\u001b[43m(\u001b[49m\u001b[43m)\u001b[49m\u001b[43m)\u001b[49m\u001b[38;5;241;43m.\u001b[39;49m\u001b[43mcount\u001b[49m\u001b[43m(\u001b[49m\u001b[43m)\u001b[49m\u001b[38;5;132;01m}\u001b[39;00m\u001b[38;5;124m\"\u001b[39m)\n",
      "File \u001b[1;32m~\\AppData\\Local\\Programs\\Python\\Python311\\Lib\\site-packages\\pyspark\\sql\\dataframe.py:1238\u001b[0m, in \u001b[0;36mDataFrame.count\u001b[1;34m(self)\u001b[0m\n\u001b[0;32m   1215\u001b[0m \u001b[38;5;28;01mdef\u001b[39;00m \u001b[38;5;21mcount\u001b[39m(\u001b[38;5;28mself\u001b[39m) \u001b[38;5;241m-\u001b[39m\u001b[38;5;241m>\u001b[39m \u001b[38;5;28mint\u001b[39m:\n\u001b[0;32m   1216\u001b[0m \u001b[38;5;250m    \u001b[39m\u001b[38;5;124;03m\"\"\"Returns the number of rows in this :class:`DataFrame`.\u001b[39;00m\n\u001b[0;32m   1217\u001b[0m \n\u001b[0;32m   1218\u001b[0m \u001b[38;5;124;03m    .. versionadded:: 1.3.0\u001b[39;00m\n\u001b[1;32m   (...)\u001b[0m\n\u001b[0;32m   1236\u001b[0m \u001b[38;5;124;03m    3\u001b[39;00m\n\u001b[0;32m   1237\u001b[0m \u001b[38;5;124;03m    \"\"\"\u001b[39;00m\n\u001b[1;32m-> 1238\u001b[0m     \u001b[38;5;28;01mreturn\u001b[39;00m \u001b[38;5;28mint\u001b[39m(\u001b[38;5;28;43mself\u001b[39;49m\u001b[38;5;241;43m.\u001b[39;49m\u001b[43m_jdf\u001b[49m\u001b[38;5;241;43m.\u001b[39;49m\u001b[43mcount\u001b[49m\u001b[43m(\u001b[49m\u001b[43m)\u001b[49m)\n",
      "File \u001b[1;32m~\\AppData\\Local\\Programs\\Python\\Python311\\Lib\\site-packages\\py4j\\java_gateway.py:1321\u001b[0m, in \u001b[0;36mJavaMember.__call__\u001b[1;34m(self, *args)\u001b[0m\n\u001b[0;32m   1314\u001b[0m args_command, temp_args \u001b[38;5;241m=\u001b[39m \u001b[38;5;28mself\u001b[39m\u001b[38;5;241m.\u001b[39m_build_args(\u001b[38;5;241m*\u001b[39margs)\n\u001b[0;32m   1316\u001b[0m command \u001b[38;5;241m=\u001b[39m proto\u001b[38;5;241m.\u001b[39mCALL_COMMAND_NAME \u001b[38;5;241m+\u001b[39m\\\n\u001b[0;32m   1317\u001b[0m     \u001b[38;5;28mself\u001b[39m\u001b[38;5;241m.\u001b[39mcommand_header \u001b[38;5;241m+\u001b[39m\\\n\u001b[0;32m   1318\u001b[0m     args_command \u001b[38;5;241m+\u001b[39m\\\n\u001b[0;32m   1319\u001b[0m     proto\u001b[38;5;241m.\u001b[39mEND_COMMAND_PART\n\u001b[1;32m-> 1321\u001b[0m answer \u001b[38;5;241m=\u001b[39m \u001b[38;5;28;43mself\u001b[39;49m\u001b[38;5;241;43m.\u001b[39;49m\u001b[43mgateway_client\u001b[49m\u001b[38;5;241;43m.\u001b[39;49m\u001b[43msend_command\u001b[49m\u001b[43m(\u001b[49m\u001b[43mcommand\u001b[49m\u001b[43m)\u001b[49m\n\u001b[0;32m   1322\u001b[0m return_value \u001b[38;5;241m=\u001b[39m get_return_value(\n\u001b[0;32m   1323\u001b[0m     answer, \u001b[38;5;28mself\u001b[39m\u001b[38;5;241m.\u001b[39mgateway_client, \u001b[38;5;28mself\u001b[39m\u001b[38;5;241m.\u001b[39mtarget_id, \u001b[38;5;28mself\u001b[39m\u001b[38;5;241m.\u001b[39mname)\n\u001b[0;32m   1325\u001b[0m \u001b[38;5;28;01mfor\u001b[39;00m temp_arg \u001b[38;5;129;01min\u001b[39;00m temp_args:\n",
      "File \u001b[1;32m~\\AppData\\Local\\Programs\\Python\\Python311\\Lib\\site-packages\\py4j\\java_gateway.py:1038\u001b[0m, in \u001b[0;36mGatewayClient.send_command\u001b[1;34m(self, command, retry, binary)\u001b[0m\n\u001b[0;32m   1036\u001b[0m connection \u001b[38;5;241m=\u001b[39m \u001b[38;5;28mself\u001b[39m\u001b[38;5;241m.\u001b[39m_get_connection()\n\u001b[0;32m   1037\u001b[0m \u001b[38;5;28;01mtry\u001b[39;00m:\n\u001b[1;32m-> 1038\u001b[0m     response \u001b[38;5;241m=\u001b[39m \u001b[43mconnection\u001b[49m\u001b[38;5;241;43m.\u001b[39;49m\u001b[43msend_command\u001b[49m\u001b[43m(\u001b[49m\u001b[43mcommand\u001b[49m\u001b[43m)\u001b[49m\n\u001b[0;32m   1039\u001b[0m     \u001b[38;5;28;01mif\u001b[39;00m binary:\n\u001b[0;32m   1040\u001b[0m         \u001b[38;5;28;01mreturn\u001b[39;00m response, \u001b[38;5;28mself\u001b[39m\u001b[38;5;241m.\u001b[39m_create_connection_guard(connection)\n",
      "File \u001b[1;32m~\\AppData\\Local\\Programs\\Python\\Python311\\Lib\\site-packages\\py4j\\clientserver.py:511\u001b[0m, in \u001b[0;36mClientServerConnection.send_command\u001b[1;34m(self, command)\u001b[0m\n\u001b[0;32m    509\u001b[0m \u001b[38;5;28;01mtry\u001b[39;00m:\n\u001b[0;32m    510\u001b[0m     \u001b[38;5;28;01mwhile\u001b[39;00m \u001b[38;5;28;01mTrue\u001b[39;00m:\n\u001b[1;32m--> 511\u001b[0m         answer \u001b[38;5;241m=\u001b[39m smart_decode(\u001b[38;5;28mself\u001b[39m\u001b[38;5;241m.\u001b[39mstream\u001b[38;5;241m.\u001b[39mreadline()[:\u001b[38;5;241m-\u001b[39m\u001b[38;5;241m1\u001b[39m])\n\u001b[0;32m    512\u001b[0m         logger\u001b[38;5;241m.\u001b[39mdebug(\u001b[38;5;124m\"\u001b[39m\u001b[38;5;124mAnswer received: \u001b[39m\u001b[38;5;132;01m{0}\u001b[39;00m\u001b[38;5;124m\"\u001b[39m\u001b[38;5;241m.\u001b[39mformat(answer))\n\u001b[0;32m    513\u001b[0m         \u001b[38;5;66;03m# Happens when a the other end is dead. There might be an empty\u001b[39;00m\n\u001b[0;32m    514\u001b[0m         \u001b[38;5;66;03m# answer before the socket raises an error.\u001b[39;00m\n",
      "File \u001b[1;32m~\\AppData\\Local\\Programs\\Python\\Python311\\Lib\\socket.py:706\u001b[0m, in \u001b[0;36mSocketIO.readinto\u001b[1;34m(self, b)\u001b[0m\n\u001b[0;32m    704\u001b[0m \u001b[38;5;28;01mwhile\u001b[39;00m \u001b[38;5;28;01mTrue\u001b[39;00m:\n\u001b[0;32m    705\u001b[0m     \u001b[38;5;28;01mtry\u001b[39;00m:\n\u001b[1;32m--> 706\u001b[0m         \u001b[38;5;28;01mreturn\u001b[39;00m \u001b[38;5;28;43mself\u001b[39;49m\u001b[38;5;241;43m.\u001b[39;49m\u001b[43m_sock\u001b[49m\u001b[38;5;241;43m.\u001b[39;49m\u001b[43mrecv_into\u001b[49m\u001b[43m(\u001b[49m\u001b[43mb\u001b[49m\u001b[43m)\u001b[49m\n\u001b[0;32m    707\u001b[0m     \u001b[38;5;28;01mexcept\u001b[39;00m timeout:\n\u001b[0;32m    708\u001b[0m         \u001b[38;5;28mself\u001b[39m\u001b[38;5;241m.\u001b[39m_timeout_occurred \u001b[38;5;241m=\u001b[39m \u001b[38;5;28;01mTrue\u001b[39;00m\n",
      "\u001b[1;31mKeyboardInterrupt\u001b[0m: "
     ]
    }
   ],
   "source": [
    "for col in df.columns:\n",
    "    print(f\"{col}: {df.filter(df[col].isNull()).count()}\")"
   ]
  },
  {
   "cell_type": "code",
   "execution_count": 40,
   "id": "02bfdc78-fee5-42d4-bf15-5e3229dd3ffc",
   "metadata": {},
   "outputs": [],
   "source": [
    "df.printSchema()"
   ]
  },
  {
   "cell_type": "code",
   "execution_count": null,
   "id": "cb5cf929-06e7-4b8e-a488-f3cd6e1eec4f",
   "metadata": {},
   "outputs": [],
   "source": [
    "df.count(), len(df.columns)"
   ]
  },
  {
   "cell_type": "markdown",
   "id": "7ab362ec-3f04-4df6-a35e-502b32926e24",
   "metadata": {},
   "source": [
    "# Data Visualization"
   ]
  },
  {
   "cell_type": "code",
   "execution_count": null,
   "id": "d3f864a0-2315-4093-b0c2-a765489ae78d",
   "metadata": {},
   "outputs": [],
   "source": []
  }
 ],
 "metadata": {
  "kernelspec": {
   "display_name": "Python 3 (ipykernel)",
   "language": "python",
   "name": "python3"
  },
  "language_info": {
   "codemirror_mode": {
    "name": "ipython",
    "version": 3
   },
   "file_extension": ".py",
   "mimetype": "text/x-python",
   "name": "python",
   "nbconvert_exporter": "python",
   "pygments_lexer": "ipython3",
   "version": "3.11.5"
  }
 },
 "nbformat": 4,
 "nbformat_minor": 5
}
